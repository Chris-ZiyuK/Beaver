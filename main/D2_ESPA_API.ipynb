{
 "cells": [
  {
   "cell_type": "code",
   "execution_count": 1,
   "id": "a0cfb649-fa75-446f-bba9-2ceb41ee1872",
   "metadata": {},
   "outputs": [
    {
     "name": "stdout",
     "output_type": "stream",
     "text": [
      "3.8.18\n"
     ]
    }
   ],
   "source": [
    "import platform\n",
    "print(platform.python_version())"
   ]
  },
  {
   "cell_type": "code",
   "execution_count": 3,
   "id": "19189b10-461c-46ae-9902-62e412fce603",
   "metadata": {},
   "outputs": [],
   "source": [
    "# ## Dependencies\n",
    "# We will use the [requests](http://docs.python-requests.org/en/master/)\n",
    "# library, although similar operations are available through the\n",
    "# [Standard Python Libraries](https://docs.python.org/2/library/internet.html)\n",
    "\n",
    "import requests\n",
    "import json\n",
    "import getpass"
   ]
  },
  {
   "cell_type": "code",
   "execution_count": 4,
   "id": "1f598b90-0690-4d83-9609-2fd225adc826",
   "metadata": {},
   "outputs": [],
   "source": [
    "# The current URL hosting the ESPA interfaces has reached a stable version 1.0\n",
    "host = 'https://espa.cr.usgs.gov/api/v1/'"
   ]
  },
  {
   "cell_type": "code",
   "execution_count": 5,
   "id": "27843745-8655-4a77-ac58-ab24ab3a8a1d",
   "metadata": {},
   "outputs": [
    {
     "name": "stdin",
     "output_type": "stream",
     "text": [
      " ········\n"
     ]
    }
   ],
   "source": [
    "# ESPA uses the ERS credentials for identifying users\n",
    "\n",
    "username = 'zk2086'\n",
    "password = getpass.getpass()"
   ]
  },
  {
   "cell_type": "code",
   "execution_count": 6,
   "id": "26e7e871-b53e-45a8-8d03-2487a6658c97",
   "metadata": {},
   "outputs": [],
   "source": [
    "# ## espa_api: A Function\n",
    "# First and foremost, define a simple function for interacting with the API. \n",
    "# \n",
    "# The key things to watch for:\n",
    "# \n",
    "# * Always scrub for a `\"messages\"` field returned in the response, it is only informational about a request\n",
    "#   * **Errors** (`\"errors\"`): Brief exlaination about why a request failed\n",
    "#   * **Warnings** (`\"warnings\"`): Cautions about a successful response\n",
    "# * Always make sure the requested HTTP `status_code` returned is valid \n",
    "#   * **GET**: `200 OK`: The requested resource was successfully fetched (result can still be empty)\n",
    "#   * **POST**: `201 Created`: The requested resource was created\n",
    "#   * **PUT**: `202 Accepted`: The requested resource was updated\n",
    "\n",
    "\n",
    "def espa_api(endpoint, verb='get', body=None, uauth=None):\n",
    "    \"\"\" Suggested simple way to interact with the ESPA JSON REST API \"\"\"\n",
    "    auth_tup = uauth if uauth else (username, password)\n",
    "    response = getattr(requests, verb)(host + endpoint, auth=auth_tup, json=body)\n",
    "    print('{} {}'.format(response.status_code, response.reason))\n",
    "    data = response.json()\n",
    "    if isinstance(data, dict):\n",
    "        messages = data.pop(\"messages\", None)  \n",
    "        if messages:\n",
    "            print((json.dumps(messages, indent=4)))\n",
    "    try:\n",
    "        response.raise_for_status()\n",
    "    except Exception as e:\n",
    "        print(e)\n",
    "        return None\n",
    "    else:\n",
    "        return data"
   ]
  },
  {
   "cell_type": "code",
   "execution_count": 7,
   "id": "569c59e9-a2dd-47e5-9eed-90f2a657962b",
   "metadata": {},
   "outputs": [
    {
     "name": "stdout",
     "output_type": "stream",
     "text": [
      "GET /api/v1/user\n",
      "200 OK\n",
      "{\n",
      "    \"email\": \"ZK2086@NYU.EDU\",\n",
      "    \"first_name\": \"ZIYU\",\n",
      "    \"last_name\": \"KONG\",\n",
      "    \"roles\": [\n",
      "        \"active\"\n",
      "    ],\n",
      "    \"username\": \"zk2086\"\n",
      "}\n"
     ]
    }
   ],
   "source": [
    "# ## General Interactions: Authentication\n",
    "# Basic call to get the current user's information. It requires valid credentials, and is a good check that the system is available\n",
    "\n",
    "print('GET /api/v1/user')\n",
    "resp = espa_api('user')\n",
    "print((json.dumps(resp, indent=4)))"
   ]
  },
  {
   "cell_type": "code",
   "execution_count": 11,
   "id": "69b947eb-4680-4f1b-906c-a40fcf624485",
   "metadata": {},
   "outputs": [
    {
     "name": "stdout",
     "output_type": "stream",
     "text": [
      "GET /api/v1/available-products\n",
      "200 OK\n",
      "{\n",
      "    \"olitirs8_collection_2_l2\": {\n",
      "        \"products\": [\n",
      "            \"l1\",\n",
      "            \"sr_ndvi\",\n",
      "            \"sr_evi\",\n",
      "            \"sr_savi\",\n",
      "            \"sr_msavi\",\n",
      "            \"sr_ndmi\",\n",
      "            \"sr_nbr\",\n",
      "            \"sr_nbr2\",\n",
      "            \"sr_ndsi\",\n",
      "            \"et\"\n",
      "        ],\n",
      "        \"inputs\": [\n",
      "            \"LC08_L2SP_035032_20160104_20200907_02_T1\"\n",
      "        ]\n",
      "    }\n",
      "}\n"
     ]
    }
   ],
   "source": [
    "# ## General Interactions: Available Options\n",
    "# \n",
    "# ESPA offers several services, descriptions can be found here: \n",
    "# * [AVAILABLE-PRODUCTS](/docs/available-products.md)\n",
    "# * [CUSTOMIZATION](/docs/customization.md)\n",
    "\n",
    "# Call to demonstrate what is returned from available-products\n",
    "print('GET /api/v1/available-products')\n",
    "avail_list = {'inputs': [ \n",
    "                         'LC08_L2SP_035032_20160104_20200907_02_T1'\n",
    "                        ]\n",
    "             }\n",
    "resp = espa_api('available-products', body=avail_list)\n",
    "print(json.dumps(resp, indent=4))"
   ]
  },
  {
   "cell_type": "code",
   "execution_count": 12,
   "id": "04d9e855-6dff-4efc-afbd-9d4fcd4e0964",
   "metadata": {},
   "outputs": [
    {
     "name": "stdout",
     "output_type": "stream",
     "text": [
      "GET /api/v1/projections\n",
      "200 OK\n",
      "[\"aea\", \"utm\", \"lonlat\", \"sinu\", \"ps\"]\n"
     ]
    }
   ],
   "source": [
    "# ESPA can produce outputs all of the same geographic projections.  \n",
    "# \n",
    "# Call to show the available projection parameters that can be used:\n",
    "\n",
    "print('GET /api/v1/projections')\n",
    "projs = espa_api('projections')\n",
    "print(json.dumps(list(projs.keys())))"
   ]
  },
  {
   "cell_type": "code",
   "execution_count": 13,
   "id": "012e8022-3244-4b09-b384-1e360359dd5f",
   "metadata": {},
   "outputs": [
    {
     "name": "stdout",
     "output_type": "stream",
     "text": [
      "{\n",
      "    \"zone\": {\n",
      "        \"type\": \"integer\",\n",
      "        \"title\": \"UTM Grid Zone Number\",\n",
      "        \"display_rank\": 0,\n",
      "        \"required\": true,\n",
      "        \"minimum\": 1,\n",
      "        \"maximum\": 60\n",
      "    },\n",
      "    \"zone_ns\": {\n",
      "        \"type\": \"string\",\n",
      "        \"title\": \"UTM Hemisphere\",\n",
      "        \"display_rank\": 1,\n",
      "        \"required\": true,\n",
      "        \"enum\": [\n",
      "            \"north\",\n",
      "            \"south\"\n",
      "        ]\n",
      "    }\n",
      "}\n"
     ]
    }
   ],
   "source": [
    "# This is a Schema Definition, useful for building a valid order\n",
    "# \n",
    "# Example (*UTM Projection*):\n",
    "\n",
    "print(json.dumps(projs['utm']['properties'], indent=4))"
   ]
  },
  {
   "cell_type": "code",
   "execution_count": 27,
   "id": "2862cf67-5ce5-4940-8320-6fc18b7c4ce7",
   "metadata": {},
   "outputs": [
    {
     "name": "stdout",
     "output_type": "stream",
     "text": [
      "GET /api/v1/available-products\n",
      "200 OK\n",
      "{\n",
      "    \"olitirs8_collection_2_l2\": {\n",
      "        \"products\": [\n",
      "            \"l1\",\n",
      "            \"sr_ndvi\",\n",
      "            \"sr_evi\",\n",
      "            \"sr_savi\",\n",
      "            \"sr_msavi\",\n",
      "            \"sr_ndmi\",\n",
      "            \"sr_nbr\",\n",
      "            \"sr_nbr2\",\n",
      "            \"sr_ndsi\",\n",
      "            \"et\"\n",
      "        ],\n",
      "        \"inputs\": [\n",
      "            \"LC08_L2SP_035032_20160104_20200907_02_T1\"\n",
      "        ]\n",
      "    }\n",
      "}\n"
     ]
    }
   ],
   "source": [
    "# ## Practical Example: Building An Order\n",
    "# Here we use two different Landsat sensors to build up an order, and then place the order into the system\n",
    "\n",
    "l8_ls = ['LC08_L1TP_029030_20161109_20170219_01_T1',\n",
    "         'LC08_L1TP_029030_20160821_20170222_01_T1',\n",
    "         'LC08_L1TP_029030_20130712_20170309_01_T1']\n",
    "l7_ls =['LE07_L1TP_029030_20170221_20170319_01_T1',\n",
    "        'LE07_L1TP_029030_20161101_20161127_01_T1',\n",
    "        'LE07_L1TP_029030_20130602_20160908_01_T1']\n",
    "\n",
    "# Differing products across the sensors\n",
    "l7_prods = ['toa', 'bt']\n",
    "l8_prods = ['sr']\n",
    "\n",
    "# Standard Albers CONUS\n",
    "projection = {'aea': {'standard_parallel_1': 29.5,\n",
    "                      'standard_parallel_2': 45.5,\n",
    "                      'central_meridian': -96.0,\n",
    "                      'latitude_of_origin': 23.0,\n",
    "                      'false_easting': 0,\n",
    "                      'false_northing': 0,\n",
    "                      'datum': 'nad83'}}\n",
    "\n",
    "# Let available-products place the acquisitions under their respective sensors\n",
    "# ls = l8_ls + l7_ls\n",
    "\n",
    "ls = ['LC08_L2SP_035032_20160104_20200907_02_T1']\n",
    "\n",
    "print('GET /api/v1/available-products')\n",
    "order = espa_api('available-products', body=dict(inputs=ls))\n",
    "print((json.dumps(order, indent=4)))\n",
    "\n",
    "\n",
    "# **NOTE**: Here we will not need to know what the sensor names were for the Product IDs, thanks to the response from this `available-products` resource. "
   ]
  },
  {
   "cell_type": "code",
   "execution_count": 28,
   "id": "d66952be-51a1-4d6c-82a6-9e76cc72886f",
   "metadata": {},
   "outputs": [
    {
     "data": {
      "text/plain": [
       "{'olitirs8_collection_2_l2': {'products': ['sr_ndvi', 'et'],\n",
       "  'inputs': ['LC08_L2SP_035032_20160104_20200907_02_T1']}}"
      ]
     },
     "execution_count": 28,
     "metadata": {},
     "output_type": "execute_result"
    }
   ],
   "source": [
    "order['olitirs8_collection_2_l2']['products'] = ['sr_ndvi', 'et']\n",
    "\n",
    "order"
   ]
  },
  {
   "cell_type": "code",
   "execution_count": 29,
   "id": "0db2b256-a1b9-4d15-ba48-642aadd9d225",
   "metadata": {},
   "outputs": [
    {
     "name": "stdout",
     "output_type": "stream",
     "text": [
      "{\n",
      "    \"olitirs8_collection_2_l2\": {\n",
      "        \"products\": [\n",
      "            \"sr_ndvi\",\n",
      "            \"et\"\n",
      "        ],\n",
      "        \"inputs\": [\n",
      "            \"LC08_L2SP_035032_20160104_20200907_02_T1\"\n",
      "        ]\n",
      "    },\n",
      "    \"projection\": {\n",
      "        \"aea\": {\n",
      "            \"standard_parallel_1\": 29.5,\n",
      "            \"standard_parallel_2\": 45.5,\n",
      "            \"central_meridian\": -96.0,\n",
      "            \"latitude_of_origin\": 23.0,\n",
      "            \"false_easting\": 0,\n",
      "            \"false_northing\": 0,\n",
      "            \"datum\": \"nad83\"\n",
      "        }\n",
      "    },\n",
      "    \"format\": \"gtiff\",\n",
      "    \"resampling_method\": \"cc\",\n",
      "    \"note\": \"API Demo Jupyter!!\"\n",
      "}\n"
     ]
    }
   ],
   "source": [
    "# Replace the available products that was returned with what we want\n",
    "# for sensor in order.keys():\n",
    "#     if isinstance(order[sensor], dict) and order[sensor].get('inputs'):\n",
    "#         if set(l7_ls) & set(order[sensor]['inputs']):\n",
    "#             order[sensor]['products'] = l7_prods\n",
    "#         if set(l8_ls) & set(order[sensor]['inputs']):\n",
    "#             order[sensor]['products'] = l8_prods\n",
    "\n",
    "# Add in the rest of the order information\n",
    "order['projection'] = projection\n",
    "order['format'] = 'gtiff'\n",
    "order['resampling_method'] = 'cc'\n",
    "order['note'] = 'API Demo Jupyter!!'\n",
    "\n",
    "# Notice how it has changed from the original call available-products\n",
    "print((json.dumps(order, indent=4)))"
   ]
  },
  {
   "cell_type": "code",
   "execution_count": 30,
   "id": "0dc6d549-0ff1-4c91-8cbf-e74171b39ea9",
   "metadata": {},
   "outputs": [
    {
     "name": "stdout",
     "output_type": "stream",
     "text": [
      "POST /api/v1/order\n",
      "201 CREATED\n",
      "{\n",
      "    \"orderid\": \"espa-ZK2086@NYU.EDU-03292024-092726-279\",\n",
      "    \"status\": \"ordered\"\n",
      "}\n"
     ]
    }
   ],
   "source": [
    "# #### Place the order\n",
    "# Place the order\n",
    "print('POST /api/v1/order')\n",
    "resp = espa_api('order', verb='post', body=order)\n",
    "print((json.dumps(resp, indent=4)))"
   ]
  },
  {
   "cell_type": "code",
   "execution_count": 31,
   "id": "b809df3d-3046-447b-8186-2a8feac55a20",
   "metadata": {},
   "outputs": [
    {
     "name": "stdout",
     "output_type": "stream",
     "text": [
      "GET /api/v1/order-status/espa-ZK2086@NYU.EDU-03292024-092726-279\n",
      "200 OK\n",
      "{\n",
      "    \"orderid\": \"espa-ZK2086@NYU.EDU-03292024-092726-279\",\n",
      "    \"status\": \"ordered\"\n",
      "}\n"
     ]
    }
   ],
   "source": [
    "# If successful, we will get our order-id\n",
    "orderid = resp['orderid']\n",
    "\n",
    "# ## Check the status of an order\n",
    "# \n",
    "\n",
    "print(('GET /api/v1/order-status/{}'.format(orderid)))\n",
    "resp = espa_api('order-status/{}'.format(orderid))\n",
    "print((json.dumps(resp, indent=4)))"
   ]
  },
  {
   "cell_type": "code",
   "execution_count": 32,
   "id": "e4737b40-ee88-422f-ac2a-d4b0ae1994cd",
   "metadata": {},
   "outputs": [
    {
     "name": "stdout",
     "output_type": "stream",
     "text": [
      "GET /api/v1/item-status/espa-ZK2086@NYU.EDU-03292024-092726-279\n",
      "200 OK\n",
      "[]\n"
     ]
    }
   ],
   "source": [
    "# Now, we can check for any completed products, and get the download url's for completed scenes\n",
    "\n",
    "print(('GET /api/v1/item-status/{0}'.format(orderid)))\n",
    "resp = espa_api('item-status/{0}'.format(orderid), body={'status': 'complete'})\n",
    "print((json.dumps(resp[orderid], indent=4)))"
   ]
  },
  {
   "cell_type": "code",
   "execution_count": 33,
   "id": "30b66388-6621-478d-b25a-e0cac10279a8",
   "metadata": {},
   "outputs": [],
   "source": [
    "# Once the order is completed or partially completed, can get the download url's\n",
    "for item in resp[orderid]:\n",
    "    print((\"URL: {0}\".format(item.get('product_dload_url'))))"
   ]
  },
  {
   "cell_type": "code",
   "execution_count": 34,
   "id": "2b7b2afa-b8e1-4a71-ac25-79d933158ed8",
   "metadata": {},
   "outputs": [
    {
     "name": "stdout",
     "output_type": "stream",
     "text": [
      "GET /api/v1/list-orders\n",
      "200 OK\n",
      "[\n",
      "    \"espa-ZK2086@NYU.EDU-03292024-092726-279\",\n",
      "    \"espa-ZK2086@NYU.EDU-03152024-081241-661\"\n",
      "]\n"
     ]
    }
   ],
   "source": [
    "# # Find previous orders \n",
    "# \n",
    "# List backlog orders for the authenticated user.\n",
    "print('GET /api/v1/list-orders')\n",
    "filters = {\"status\": [\"complete\", \"ordered\"]}  # Here, we ignore any purged orders\n",
    "resp = espa_api('list-orders', body=filters)\n",
    "print((json.dumps(resp, indent=4)))\n"
   ]
  },
  {
   "cell_type": "code",
   "execution_count": 35,
   "id": "2d7a474c-a2f9-4815-a7e1-c59fea27f2e4",
   "metadata": {},
   "outputs": [
    {
     "name": "stdout",
     "output_type": "stream",
     "text": [
      "GET /api/v1/list-orders\n",
      "200 OK\n",
      "PUT /api/v1/order\n",
      "202 ACCEPTED\n",
      "{\n",
      "    \"orderid\": \"espa-ZK2086@NYU.EDU-03292024-092726-279\",\n",
      "    \"status\": \"cancelled\"\n",
      "}\n"
     ]
    }
   ],
   "source": [
    "# ## Emergency halt an Order\n",
    "# ### PLEASE BE CAREFUL!\n",
    "# \n",
    "# ESPA processes your orders in the sequence in which they are recieved.  \n",
    "# You may want to remove blocking orders in your queue, to prioritize your latest orders\n",
    "\n",
    "# In-process orders\n",
    "print('GET /api/v1/list-orders')\n",
    "filters = {\"status\": [\"ordered\"]}\n",
    "orders = espa_api('list-orders', body=filters)\n",
    "\n",
    "# Here we cancel an incomplete order\n",
    "orderid = orders[0]\n",
    "cancel_request = {\"orderid\": orderid, \"status\": \"cancelled\"}\n",
    "print('PUT /api/v1/order')\n",
    "order_status = espa_api('order', verb='put', body=cancel_request)\n",
    "\n",
    "print((json.dumps(order_status, indent=4)))\n",
    "\n",
    "\n",
    "# # Python Script\n",
    "# \n",
    "# This notebook is available as a script for [download here](/examples/api_demo.py)."
   ]
  },
  {
   "cell_type": "code",
   "execution_count": null,
   "id": "fa478e5a-9f7f-4c1f-bd36-290b73ee2342",
   "metadata": {},
   "outputs": [],
   "source": []
  }
 ],
 "metadata": {
  "kernelspec": {
   "display_name": "Python 3 (ipykernel)",
   "language": "python",
   "name": "python3"
  },
  "language_info": {
   "codemirror_mode": {
    "name": "ipython",
    "version": 3
   },
   "file_extension": ".py",
   "mimetype": "text/x-python",
   "name": "python",
   "nbconvert_exporter": "python",
   "pygments_lexer": "ipython3",
   "version": "3.11.4"
  }
 },
 "nbformat": 4,
 "nbformat_minor": 5
}
