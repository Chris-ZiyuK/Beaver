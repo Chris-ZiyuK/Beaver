{
 "cells": [
  {
   "cell_type": "markdown",
   "id": "b2a94025-0619-4e8e-8887-f37e79016333",
   "metadata": {},
   "source": [
    "### Google Earth Engine(GEE) API\n",
    "\n",
    " - Project: Project Beaver\n",
    " - Laboratory: Lindsay Lab at NYU\n",
    " - Professor: Dr. Grace W. Lindsay"
   ]
  },
  {
   "cell_type": "markdown",
   "id": "469be3d0-fb53-4461-9e70-c6cb454cb01e",
   "metadata": {},
   "source": [
    "#### Part 1: Preparation"
   ]
  },
  {
   "cell_type": "code",
   "execution_count": 2,
   "id": "3e5e89de-1c39-4644-b2b4-686e2f1efc58",
   "metadata": {},
   "outputs": [],
   "source": [
    "%%capture\n",
    "# Run this cell if package not installed on your environment.\n",
    "# If you are running this cell locally, make sure to install it\n",
    "# on the right environment and restart the kernel before continuing.\n",
    "\n",
    "!pip install earthengine-api"
   ]
  },
  {
   "cell_type": "code",
   "execution_count": 3,
   "id": "dfd20cc8-dbc4-4650-bc58-7c2bcc706a96",
   "metadata": {},
   "outputs": [],
   "source": [
    "# Import APIs\n",
    "import pandas as pd\n",
    "import warnings\n",
    "import ee\n",
    "\n",
    "# Ignore FutureWarning\n",
    "warnings.simplefilter(action='ignore', category=FutureWarning)"
   ]
  },
  {
   "cell_type": "code",
   "execution_count": 4,
   "id": "eef84614-79ed-40e1-b4ff-df65d96fa431",
   "metadata": {},
   "outputs": [
    {
     "data": {
      "text/plain": [
       "True"
      ]
     },
     "execution_count": 4,
     "metadata": {},
     "output_type": "execute_result"
    }
   ],
   "source": [
    "# NOTE: running this cell for the first time will direct you\n",
    "# to GEE authenticator. You will need to sign in with your \n",
    "# google account and paste the token down below.\n",
    "ee.Authenticate()"
   ]
  },
  {
   "cell_type": "markdown",
   "id": "de6a0641-ae3f-47bd-9b50-1669822f26f7",
   "metadata": {},
   "source": [
    "#### Part 2: Import tables"
   ]
  },
  {
   "cell_type": "code",
   "execution_count": 5,
   "id": "1ee7d980-f050-4fce-9a7c-a8bb5866f7f1",
   "metadata": {},
   "outputs": [],
   "source": [
    "# Load two tables shared in the google earth engine\n",
    "\n",
    "# Note that in order to successfully import the table, you will\n",
    "# have to import the table to your project.\n",
    "ee.Initialize(project=\"project-beaver-415818\") # Replace project with your project or ask for permission to join this project\n",
    "\n",
    "# Import the table with dams' data\n",
    "DamData = ee.FeatureCollection(\"projects/ee-beaver-lab/assets/DamData/Chris0124_CA\")\n",
    "\n",
    "# Import the table with negative data\n",
    "NegData = ee.FeatureCollection(\"projects/ee-beaver-lab/assets/NegativePoints/v2/chris2024_CA_only\")"
   ]
  },
  {
   "cell_type": "code",
   "execution_count": 6,
   "id": "fe75296d-a258-4ee1-b05b-2d2c64e78f29",
   "metadata": {},
   "outputs": [
    {
     "name": "stdout",
     "output_type": "stream",
     "text": [
      "ee.Feature({\n",
      "  \"functionInvocationValue\": {\n",
      "    \"functionName\": \"Feature\",\n",
      "    \"arguments\": {\n",
      "      \"geometry\": {\n",
      "        \"functionInvocationValue\": {\n",
      "          \"functionName\": \"GeometryConstructors.Point\",\n",
      "          \"arguments\": {\n",
      "            \"coordinates\": {\n",
      "              \"constantValue\": [\n",
      "                -118.13642233498618,\n",
      "                36.02848416399409\n",
      "              ]\n",
      "            }\n",
      "          }\n",
      "        }\n",
      "      },\n",
      "      \"metadata\": {\n",
      "        \"constantValue\": {\n",
      "          \"Beaver Dam ID #\": \"SFKernRiver:200822:1\",\n",
      "          \"date\": \"2020-08-22\",\n",
      "          \"id_data_src\": \"GoogleEarth\",\n",
      "          \"state\": \"CA\",\n",
      "          \"system:index\": \"00000000000000000026\",\n",
      "          \"watershed\": \"SFKernRiver\"\n",
      "        }\n",
      "      }\n",
      "    }\n",
      "  }\n",
      "})\n"
     ]
    }
   ],
   "source": [
    "# Fundamental structure of beaver dam location table\n",
    "feature = ee.Feature(DamData.first().getInfo())\n",
    "print(feature) # Uncommit to view full feature description"
   ]
  },
  {
   "cell_type": "code",
   "execution_count": 7,
   "id": "6027bc96-c35b-4e62-bbde-887a7d27674d",
   "metadata": {},
   "outputs": [
    {
     "name": "stdout",
     "output_type": "stream",
     "text": [
      "ee.Feature({\n",
      "  \"functionInvocationValue\": {\n",
      "    \"functionName\": \"Feature\",\n",
      "    \"arguments\": {\n",
      "      \"geometry\": {\n",
      "        \"functionInvocationValue\": {\n",
      "          \"functionName\": \"GeometryConstructors.Point\",\n",
      "          \"arguments\": {\n",
      "            \"coordinates\": {\n",
      "              \"constantValue\": [\n",
      "                -118.16632506665053,\n",
      "                35.894746805199134\n",
      "              ]\n",
      "            }\n",
      "          }\n",
      "        }\n",
      "      },\n",
      "      \"metadata\": {\n",
      "        \"constantValue\": {\n",
      "          \"hydro_mask\": 1,\n",
      "          \"system:index\": \"00000000000000000000\"\n",
      "        }\n",
      "      }\n",
      "    }\n",
      "  }\n",
      "})\n"
     ]
    }
   ],
   "source": [
    "# Fundamental structure of negative points location table\n",
    "feature = ee.Feature(NegData.first().getInfo())\n",
    "print(feature) # Uncommit to view full feature description"
   ]
  },
  {
   "cell_type": "markdown",
   "id": "a48b2205-ef32-48d0-ade3-4bbd218f767c",
   "metadata": {},
   "source": [
    "#### Part 3: Retrieve Data"
   ]
  },
  {
   "cell_type": "code",
   "execution_count": 19,
   "id": "96fba0ec-8c0a-4ea7-8fc3-47338a6623a8",
   "metadata": {},
   "outputs": [
    {
     "data": {
      "text/html": [
       "<div>\n",
       "<style scoped>\n",
       "    .dataframe tbody tr th:only-of-type {\n",
       "        vertical-align: middle;\n",
       "    }\n",
       "\n",
       "    .dataframe tbody tr th {\n",
       "        vertical-align: top;\n",
       "    }\n",
       "\n",
       "    .dataframe thead th {\n",
       "        text-align: right;\n",
       "    }\n",
       "</style>\n",
       "<table border=\"1\" class=\"dataframe\">\n",
       "  <thead>\n",
       "    <tr style=\"text-align: right;\">\n",
       "      <th></th>\n",
       "      <th>damid</th>\n",
       "      <th>date</th>\n",
       "      <th>longitude</th>\n",
       "      <th>latitude</th>\n",
       "      <th>state</th>\n",
       "      <th>systemidx</th>\n",
       "      <th>watershed</th>\n",
       "    </tr>\n",
       "  </thead>\n",
       "  <tbody>\n",
       "    <tr>\n",
       "      <th>0</th>\n",
       "      <td>SFKernRiver:200822:1</td>\n",
       "      <td>2020-08-22</td>\n",
       "      <td>-118.136422</td>\n",
       "      <td>36.028484</td>\n",
       "      <td>CA</td>\n",
       "      <td>00000000000000000026</td>\n",
       "      <td>SFKernRiver</td>\n",
       "    </tr>\n",
       "    <tr>\n",
       "      <th>1</th>\n",
       "      <td>SFKernRiver:200822:2</td>\n",
       "      <td>2020-08-22</td>\n",
       "      <td>-118.135843</td>\n",
       "      <td>36.022482</td>\n",
       "      <td>CA</td>\n",
       "      <td>00000000000000000027</td>\n",
       "      <td>SFKernRiver</td>\n",
       "    </tr>\n",
       "    <tr>\n",
       "      <th>2</th>\n",
       "      <td>SFKernRiver:200822:3</td>\n",
       "      <td>2020-08-22</td>\n",
       "      <td>-118.138375</td>\n",
       "      <td>36.007923</td>\n",
       "      <td>CA</td>\n",
       "      <td>00000000000000000028</td>\n",
       "      <td>SFKernRiver</td>\n",
       "    </tr>\n",
       "    <tr>\n",
       "      <th>3</th>\n",
       "      <td>SFKernRiver:200822:4</td>\n",
       "      <td>2020-08-22</td>\n",
       "      <td>-118.141265</td>\n",
       "      <td>36.005453</td>\n",
       "      <td>CA</td>\n",
       "      <td>00000000000000000029</td>\n",
       "      <td>SFKernRiver</td>\n",
       "    </tr>\n",
       "    <tr>\n",
       "      <th>4</th>\n",
       "      <td>SFKernRiver:200822:5</td>\n",
       "      <td>2020-08-22</td>\n",
       "      <td>-118.141073</td>\n",
       "      <td>36.005038</td>\n",
       "      <td>CA</td>\n",
       "      <td>0000000000000000002a</td>\n",
       "      <td>SFKernRiver</td>\n",
       "    </tr>\n",
       "    <tr>\n",
       "      <th>5</th>\n",
       "      <td>SFKernRiver:200822:6</td>\n",
       "      <td>2020-08-22</td>\n",
       "      <td>-118.142371</td>\n",
       "      <td>36.005061</td>\n",
       "      <td>CA</td>\n",
       "      <td>0000000000000000002b</td>\n",
       "      <td>SFKernRiver</td>\n",
       "    </tr>\n",
       "    <tr>\n",
       "      <th>6</th>\n",
       "      <td>SFKernRiver:200822:7</td>\n",
       "      <td>2020-08-22</td>\n",
       "      <td>-118.144034</td>\n",
       "      <td>36.001056</td>\n",
       "      <td>CA</td>\n",
       "      <td>0000000000000000002c</td>\n",
       "      <td>SFKernRiver</td>\n",
       "    </tr>\n",
       "    <tr>\n",
       "      <th>7</th>\n",
       "      <td>SFKernRiver:200822:8</td>\n",
       "      <td>2020-08-22</td>\n",
       "      <td>-118.144203</td>\n",
       "      <td>36.000468</td>\n",
       "      <td>CA</td>\n",
       "      <td>0000000000000000002d</td>\n",
       "      <td>SFKernRiver</td>\n",
       "    </tr>\n",
       "    <tr>\n",
       "      <th>8</th>\n",
       "      <td>SFKernRiver:200822:9</td>\n",
       "      <td>2020-08-22</td>\n",
       "      <td>-118.148734</td>\n",
       "      <td>35.996472</td>\n",
       "      <td>CA</td>\n",
       "      <td>0000000000000000002e</td>\n",
       "      <td>SFKernRiver</td>\n",
       "    </tr>\n",
       "    <tr>\n",
       "      <th>9</th>\n",
       "      <td>SFKernRiver:200822:10</td>\n",
       "      <td>2020-08-22</td>\n",
       "      <td>-118.150246</td>\n",
       "      <td>35.995389</td>\n",
       "      <td>CA</td>\n",
       "      <td>0000000000000000002f</td>\n",
       "      <td>SFKernRiver</td>\n",
       "    </tr>\n",
       "    <tr>\n",
       "      <th>10</th>\n",
       "      <td>SFKernRiver:200822:11</td>\n",
       "      <td>2020-08-22</td>\n",
       "      <td>-118.150781</td>\n",
       "      <td>35.994822</td>\n",
       "      <td>CA</td>\n",
       "      <td>00000000000000000030</td>\n",
       "      <td>SFKernRiver</td>\n",
       "    </tr>\n",
       "    <tr>\n",
       "      <th>11</th>\n",
       "      <td>SFKernRiver:200822:12</td>\n",
       "      <td>2020-08-22</td>\n",
       "      <td>-118.150321</td>\n",
       "      <td>35.991532</td>\n",
       "      <td>CA</td>\n",
       "      <td>00000000000000000031</td>\n",
       "      <td>SFKernRiver</td>\n",
       "    </tr>\n",
       "    <tr>\n",
       "      <th>12</th>\n",
       "      <td>SFKernRiver:200822:13</td>\n",
       "      <td>2020-08-22</td>\n",
       "      <td>-118.146723</td>\n",
       "      <td>35.986796</td>\n",
       "      <td>CA</td>\n",
       "      <td>00000000000000000032</td>\n",
       "      <td>SFKernRiver</td>\n",
       "    </tr>\n",
       "    <tr>\n",
       "      <th>13</th>\n",
       "      <td>SFKernRiver:200822:14</td>\n",
       "      <td>2020-08-22</td>\n",
       "      <td>-118.159966</td>\n",
       "      <td>35.970422</td>\n",
       "      <td>CA</td>\n",
       "      <td>00000000000000000033</td>\n",
       "      <td>SFKernRiver</td>\n",
       "    </tr>\n",
       "    <tr>\n",
       "      <th>14</th>\n",
       "      <td>SFKernRiver:200822:15</td>\n",
       "      <td>2020-08-22</td>\n",
       "      <td>-118.159708</td>\n",
       "      <td>35.969811</td>\n",
       "      <td>CA</td>\n",
       "      <td>00000000000000000034</td>\n",
       "      <td>SFKernRiver</td>\n",
       "    </tr>\n",
       "    <tr>\n",
       "      <th>15</th>\n",
       "      <td>SFKernRiver:200822:16</td>\n",
       "      <td>2020-08-22</td>\n",
       "      <td>-118.160934</td>\n",
       "      <td>35.962124</td>\n",
       "      <td>CA</td>\n",
       "      <td>00000000000000000035</td>\n",
       "      <td>SFKernRiver</td>\n",
       "    </tr>\n",
       "    <tr>\n",
       "      <th>16</th>\n",
       "      <td>SFKernRiver:200822:17</td>\n",
       "      <td>2020-08-22</td>\n",
       "      <td>-118.160707</td>\n",
       "      <td>35.961361</td>\n",
       "      <td>CA</td>\n",
       "      <td>00000000000000000036</td>\n",
       "      <td>SFKernRiver</td>\n",
       "    </tr>\n",
       "    <tr>\n",
       "      <th>17</th>\n",
       "      <td>SFKernRiver:200822:18</td>\n",
       "      <td>2020-08-22</td>\n",
       "      <td>-118.161848</td>\n",
       "      <td>35.960541</td>\n",
       "      <td>CA</td>\n",
       "      <td>00000000000000000037</td>\n",
       "      <td>SFKernRiver</td>\n",
       "    </tr>\n",
       "    <tr>\n",
       "      <th>18</th>\n",
       "      <td>SFKernRiver:200822:19</td>\n",
       "      <td>2020-08-22</td>\n",
       "      <td>-118.163057</td>\n",
       "      <td>35.959645</td>\n",
       "      <td>CA</td>\n",
       "      <td>00000000000000000038</td>\n",
       "      <td>SFKernRiver</td>\n",
       "    </tr>\n",
       "    <tr>\n",
       "      <th>19</th>\n",
       "      <td>SFKernRiver:200822:20</td>\n",
       "      <td>2020-08-22</td>\n",
       "      <td>-118.162437</td>\n",
       "      <td>35.958646</td>\n",
       "      <td>CA</td>\n",
       "      <td>00000000000000000039</td>\n",
       "      <td>SFKernRiver</td>\n",
       "    </tr>\n",
       "  </tbody>\n",
       "</table>\n",
       "</div>"
      ],
      "text/plain": [
       "                    damid        date   longitude   latitude state  \\\n",
       "0    SFKernRiver:200822:1  2020-08-22 -118.136422  36.028484    CA   \n",
       "1    SFKernRiver:200822:2  2020-08-22 -118.135843  36.022482    CA   \n",
       "2    SFKernRiver:200822:3  2020-08-22 -118.138375  36.007923    CA   \n",
       "3    SFKernRiver:200822:4  2020-08-22 -118.141265  36.005453    CA   \n",
       "4    SFKernRiver:200822:5  2020-08-22 -118.141073  36.005038    CA   \n",
       "5    SFKernRiver:200822:6  2020-08-22 -118.142371  36.005061    CA   \n",
       "6    SFKernRiver:200822:7  2020-08-22 -118.144034  36.001056    CA   \n",
       "7    SFKernRiver:200822:8  2020-08-22 -118.144203  36.000468    CA   \n",
       "8    SFKernRiver:200822:9  2020-08-22 -118.148734  35.996472    CA   \n",
       "9   SFKernRiver:200822:10  2020-08-22 -118.150246  35.995389    CA   \n",
       "10  SFKernRiver:200822:11  2020-08-22 -118.150781  35.994822    CA   \n",
       "11  SFKernRiver:200822:12  2020-08-22 -118.150321  35.991532    CA   \n",
       "12  SFKernRiver:200822:13  2020-08-22 -118.146723  35.986796    CA   \n",
       "13  SFKernRiver:200822:14  2020-08-22 -118.159966  35.970422    CA   \n",
       "14  SFKernRiver:200822:15  2020-08-22 -118.159708  35.969811    CA   \n",
       "15  SFKernRiver:200822:16  2020-08-22 -118.160934  35.962124    CA   \n",
       "16  SFKernRiver:200822:17  2020-08-22 -118.160707  35.961361    CA   \n",
       "17  SFKernRiver:200822:18  2020-08-22 -118.161848  35.960541    CA   \n",
       "18  SFKernRiver:200822:19  2020-08-22 -118.163057  35.959645    CA   \n",
       "19  SFKernRiver:200822:20  2020-08-22 -118.162437  35.958646    CA   \n",
       "\n",
       "               systemidx    watershed  \n",
       "0   00000000000000000026  SFKernRiver  \n",
       "1   00000000000000000027  SFKernRiver  \n",
       "2   00000000000000000028  SFKernRiver  \n",
       "3   00000000000000000029  SFKernRiver  \n",
       "4   0000000000000000002a  SFKernRiver  \n",
       "5   0000000000000000002b  SFKernRiver  \n",
       "6   0000000000000000002c  SFKernRiver  \n",
       "7   0000000000000000002d  SFKernRiver  \n",
       "8   0000000000000000002e  SFKernRiver  \n",
       "9   0000000000000000002f  SFKernRiver  \n",
       "10  00000000000000000030  SFKernRiver  \n",
       "11  00000000000000000031  SFKernRiver  \n",
       "12  00000000000000000032  SFKernRiver  \n",
       "13  00000000000000000033  SFKernRiver  \n",
       "14  00000000000000000034  SFKernRiver  \n",
       "15  00000000000000000035  SFKernRiver  \n",
       "16  00000000000000000036  SFKernRiver  \n",
       "17  00000000000000000037  SFKernRiver  \n",
       "18  00000000000000000038  SFKernRiver  \n",
       "19  00000000000000000039  SFKernRiver  "
      ]
     },
     "execution_count": 19,
     "metadata": {},
     "output_type": "execute_result"
    }
   ],
   "source": [
    "# \"Beaver Dam ID #\": \"SFKernRiver:200822:1\",\n",
    "#           \"date\": \"2020-08-22\",\n",
    "#           \"id_data_src\": \"GoogleEarth\",\n",
    "#           \"state\": \"CA\",\n",
    "#           \"system:index\": \"00000000000000000026\",\n",
    "#           \"watershed\": \"SFKernRiver\"\n",
    "\n",
    "# Create an empty list to store data\n",
    "data_points = []\n",
    "\n",
    "# Iterate through every point in the DamData\n",
    "for feature in DamData.getInfo()['features']:\n",
    "    # Extract coordinates\n",
    "    coordinates = feature['geometry']['coordinates']\n",
    "    \n",
    "    # Extract metadata\n",
    "    metadata = feature['properties']\n",
    "            \n",
    "    point_info = {\n",
    "        'damid': metadata['Beaver Dam ID #'],\n",
    "        'date': metadata['date'],\n",
    "        'longitude': coordinates[0],\n",
    "        'latitude': coordinates[1],\n",
    "        'state': metadata['state'],\n",
    "        'systemidx': feature['id'],\n",
    "        'watershed': metadata['watershed']\n",
    "    }\n",
    "        \n",
    "    data_points.append(point_info)\n",
    "\n",
    "# Convert data points(list) to DataFrame\n",
    "df_dam = pd.DataFrame(data_points)\n",
    "\n",
    "# Examine the first lines DataFrame\n",
    "df_dam.head(20)"
   ]
  },
  {
   "cell_type": "code",
   "execution_count": 20,
   "id": "12f03dd9-a025-4495-b3d2-85186f697af3",
   "metadata": {},
   "outputs": [
    {
     "name": "stdout",
     "output_type": "stream",
     "text": [
      "Number of unique Names: 450\n"
     ]
    }
   ],
   "source": [
    "# Check number of unique Names\n",
    "unique_ids_count = df_dam['damid'].nunique()\n",
    "print(f\"Number of unique Names: {unique_ids_count}\")"
   ]
  },
  {
   "cell_type": "code",
   "execution_count": 23,
   "id": "58c377f4-18b2-4a39-afef-50bcb18429c8",
   "metadata": {},
   "outputs": [
    {
     "data": {
      "text/html": [
       "<div>\n",
       "<style scoped>\n",
       "    .dataframe tbody tr th:only-of-type {\n",
       "        vertical-align: middle;\n",
       "    }\n",
       "\n",
       "    .dataframe tbody tr th {\n",
       "        vertical-align: top;\n",
       "    }\n",
       "\n",
       "    .dataframe thead th {\n",
       "        text-align: right;\n",
       "    }\n",
       "</style>\n",
       "<table border=\"1\" class=\"dataframe\">\n",
       "  <thead>\n",
       "    <tr style=\"text-align: right;\">\n",
       "      <th></th>\n",
       "      <th>Longitude</th>\n",
       "      <th>Latitude</th>\n",
       "      <th>systemidx</th>\n",
       "    </tr>\n",
       "  </thead>\n",
       "  <tbody>\n",
       "    <tr>\n",
       "      <th>0</th>\n",
       "      <td>-118.166325</td>\n",
       "      <td>35.894747</td>\n",
       "      <td>00000000000000000000</td>\n",
       "    </tr>\n",
       "    <tr>\n",
       "      <th>1</th>\n",
       "      <td>-118.255436</td>\n",
       "      <td>35.975055</td>\n",
       "      <td>00000000000000000001</td>\n",
       "    </tr>\n",
       "    <tr>\n",
       "      <th>2</th>\n",
       "      <td>-118.236663</td>\n",
       "      <td>35.992214</td>\n",
       "      <td>00000000000000000002</td>\n",
       "    </tr>\n",
       "    <tr>\n",
       "      <th>3</th>\n",
       "      <td>-118.132008</td>\n",
       "      <td>36.054918</td>\n",
       "      <td>00000000000000000003</td>\n",
       "    </tr>\n",
       "    <tr>\n",
       "      <th>4</th>\n",
       "      <td>-118.153657</td>\n",
       "      <td>35.889177</td>\n",
       "      <td>00000000000000000004</td>\n",
       "    </tr>\n",
       "  </tbody>\n",
       "</table>\n",
       "</div>"
      ],
      "text/plain": [
       "    Longitude   Latitude             systemidx\n",
       "0 -118.166325  35.894747  00000000000000000000\n",
       "1 -118.255436  35.975055  00000000000000000001\n",
       "2 -118.236663  35.992214  00000000000000000002\n",
       "3 -118.132008  36.054918  00000000000000000003\n",
       "4 -118.153657  35.889177  00000000000000000004"
      ]
     },
     "execution_count": 23,
     "metadata": {},
     "output_type": "execute_result"
    }
   ],
   "source": [
    "# Create an empty list to store data\n",
    "data_points = []\n",
    "\n",
    "# Iterate through every point in the DamData\n",
    "for feature in NegData.getInfo()['features']:\n",
    "    \n",
    "    point_info = {\n",
    "        'Longitude': feature['geometry']['coordinates'][0],\n",
    "        'Latitude': feature['geometry']['coordinates'][1],\n",
    "        # 'Name': feature['properties']['beaverDamID'],\n",
    "        'systemidx': feature['id']\n",
    "    }\n",
    "    \n",
    "    data_points.append(point_info)\n",
    "\n",
    "# Convert data points(list) to DataFrame\n",
    "df_neg = pd.DataFrame(data_points)\n",
    "\n",
    "# Examine the first lines DataFrame\n",
    "df_neg.head()"
   ]
  },
  {
   "cell_type": "code",
   "execution_count": 24,
   "id": "c86814e6-cdf1-44de-a47d-cc1f4e1538f9",
   "metadata": {},
   "outputs": [
    {
     "name": "stdout",
     "output_type": "stream",
     "text": [
      "Number of unique Names: 450\n"
     ]
    }
   ],
   "source": [
    "# Check number of unique Names\n",
    "unique_ids_count = df_neg['systemidx'].nunique()\n",
    "print(f\"Number of unique Names: {unique_ids_count}\")"
   ]
  },
  {
   "cell_type": "markdown",
   "id": "377c436b-5d1c-4917-a9a9-31fad572cf1e",
   "metadata": {},
   "source": [
    "#### Part 4: Download the file"
   ]
  },
  {
   "cell_type": "code",
   "execution_count": 25,
   "id": "069b427f-b215-44dd-a99e-26ef7fef4eb5",
   "metadata": {},
   "outputs": [
    {
     "data": {
      "text/html": [
       "<a href='CA_df_dam.csv' target='_blank'>CA_df_dam.csv</a><br>"
      ],
      "text/plain": [
       "/Users/ziyukong/codebase/BEAVER/code/beaver-project/main/CA_df_dam.csv"
      ]
     },
     "execution_count": 25,
     "metadata": {},
     "output_type": "execute_result"
    }
   ],
   "source": [
    "from IPython.display import FileLink\n",
    "\n",
    "df_dam.to_csv('CA_df_dam.csv', index=False)\n",
    "FileLink('CA_df_dam.csv')"
   ]
  },
  {
   "cell_type": "code",
   "execution_count": 26,
   "id": "22cb2449-6df3-492a-adea-315f018675c0",
   "metadata": {},
   "outputs": [
    {
     "data": {
      "text/html": [
       "<a href='CA_df_neg.csv' target='_blank'>CA_df_neg.csv</a><br>"
      ],
      "text/plain": [
       "/Users/ziyukong/codebase/BEAVER/code/beaver-project/main/CA_df_neg.csv"
      ]
     },
     "execution_count": 26,
     "metadata": {},
     "output_type": "execute_result"
    }
   ],
   "source": [
    "df_neg.to_csv('CA_df_neg.csv', index=False)\n",
    "FileLink('CA_df_neg.csv')"
   ]
  },
  {
   "cell_type": "code",
   "execution_count": null,
   "id": "089e3dff-3b07-4bba-a7e5-0abb391fc98d",
   "metadata": {},
   "outputs": [],
   "source": []
  }
 ],
 "metadata": {
  "kernelspec": {
   "display_name": "Python 3 (ipykernel)",
   "language": "python",
   "name": "python3"
  },
  "language_info": {
   "codemirror_mode": {
    "name": "ipython",
    "version": 3
   },
   "file_extension": ".py",
   "mimetype": "text/x-python",
   "name": "python",
   "nbconvert_exporter": "python",
   "pygments_lexer": "ipython3",
   "version": "3.11.4"
  }
 },
 "nbformat": 4,
 "nbformat_minor": 5
}
