{
 "cells": [
  {
   "cell_type": "markdown",
   "id": "b2a94025-0619-4e8e-8887-f37e79016333",
   "metadata": {},
   "source": [
    "### Google Earth Engine(GEE) API\n",
    "\n",
    " - Project: Project Beaver\n",
    " - Laboratory: Lindsay Lab at NYU\n",
    " - Professor: Dr. Grace W. Lindsay"
   ]
  },
  {
   "cell_type": "markdown",
   "id": "469be3d0-fb53-4461-9e70-c6cb454cb01e",
   "metadata": {},
   "source": [
    "#### Part 1: Preparation"
   ]
  },
  {
   "cell_type": "code",
   "execution_count": 1,
   "id": "3e5e89de-1c39-4644-b2b4-686e2f1efc58",
   "metadata": {},
   "outputs": [],
   "source": [
    "%%capture\n",
    "# Run this cell if package not installed on your environment.\n",
    "# If you are running this cell locally, make sure to install it\n",
    "# on the right environment and restart the kernel before continuing.\n",
    "\n",
    "!pip install earthengine-api"
   ]
  },
  {
   "cell_type": "code",
   "execution_count": 2,
   "id": "dfd20cc8-dbc4-4650-bc58-7c2bcc706a96",
   "metadata": {},
   "outputs": [],
   "source": [
    "# Import APIs\n",
    "import pandas as pd\n",
    "import warnings\n",
    "import ee\n",
    "\n",
    "# Ignore FutureWarning\n",
    "warnings.simplefilter(action='ignore', category=FutureWarning)"
   ]
  },
  {
   "cell_type": "code",
   "execution_count": 3,
   "id": "eef84614-79ed-40e1-b4ff-df65d96fa431",
   "metadata": {},
   "outputs": [
    {
     "data": {
      "text/plain": [
       "True"
      ]
     },
     "execution_count": 3,
     "metadata": {},
     "output_type": "execute_result"
    }
   ],
   "source": [
    "# NOTE: running this cell for the first time will direct you\n",
    "# to GEE authenticator. You will need to sign in with your \n",
    "# google account and paste the token down below.\n",
    "ee.Authenticate()"
   ]
  },
  {
   "cell_type": "markdown",
   "id": "de6a0641-ae3f-47bd-9b50-1669822f26f7",
   "metadata": {},
   "source": [
    "#### Part 2: Import tables"
   ]
  },
  {
   "cell_type": "code",
   "execution_count": 8,
   "id": "1ee7d980-f050-4fce-9a7c-a8bb5866f7f1",
   "metadata": {},
   "outputs": [],
   "source": [
    "# Load two tables shared in the google earth engine\n",
    "\n",
    "# Note that in order to successfully import the table, you will\n",
    "# have to import the table to your project.\n",
    "ee.Initialize(project=\"project-beaver-415818\") # Replace project with your project or ask for permission to join this project\n",
    "\n",
    "# Import the table with dams' data\n",
    "DamData = ee.FeatureCollection(\"projects/ee-beaver-lab/assets/DamData/Fairfax_Colorado_dams\")\n",
    "\n",
    "# Import the table with negative data\n",
    "NegData = ee.FeatureCollection(\"projects/ee-beaver-lab/assets/NegativePoints/fairfax_co_sample_20240223\")"
   ]
  },
  {
   "cell_type": "code",
   "execution_count": 9,
   "id": "fe75296d-a258-4ee1-b05b-2d2c64e78f29",
   "metadata": {},
   "outputs": [
    {
     "name": "stdout",
     "output_type": "stream",
     "text": [
      "ee.Feature({\n",
      "  \"functionInvocationValue\": {\n",
      "    \"functionName\": \"Feature\",\n",
      "    \"arguments\": {\n",
      "      \"geometry\": {\n",
      "        \"functionInvocationValue\": {\n",
      "          \"functionName\": \"GeometryConstructors.LineString\",\n",
      "          \"arguments\": {\n",
      "            \"coordinates\": {\n",
      "              \"constantValue\": [\n",
      "                [\n",
      "                  -106.61505946050742,\n",
      "                  40.96781702359292\n",
      "                ],\n",
      "                [\n",
      "                  -106.615023787699,\n",
      "                  40.967861614603464\n",
      "                ],\n",
      "                [\n",
      "                  -106.61500149219374,\n",
      "                  40.967879451007676\n",
      "                ],\n",
      "                [\n",
      "                  -106.61493460567793,\n",
      "                  40.96789728741189\n",
      "                ],\n",
      "                [\n",
      "                  -106.6148810964653,\n",
      "                  40.967906205613986\n",
      "                ],\n",
      "                [\n",
      "                  -106.61483650545475,\n",
      "                  40.967888369209774\n",
      "                ],\n",
      "                [\n",
      "                  -106.61479637354527,\n",
      "                  40.96786607370451\n",
      "                ]\n",
      "              ]\n",
      "            }\n",
      "          }\n",
      "        }\n",
      "      },\n",
      "      \"metadata\": {\n",
      "        \"constantValue\": {\n",
      "          \"Name\": \"Colo_Dam_105\",\n",
      "          \"altitudeMo\": \"\",\n",
      "          \"begin\": \"\",\n",
      "          \"descriptio\": \"\",\n",
      "          \"end\": \"\",\n",
      "          \"extrude\": 0,\n",
      "          \"icon\": \"\",\n",
      "          \"layer\": \"Colo_Dam_105 \\u2014 FireDamsFairfax/ColoradoDams/Colo_Dam_105.kmz\",\n",
      "          \"path\": \"/vsizip/C:/Users/Hutch/Downloads/FireDamsFairfax.zip/FireDamsFairfax/ColoradoDams/Colo_Dam_105.kmz|layername=Colo_Dam_105.kmz|geometrytype=LineString25D|uniqueGeometryType=yes\",\n",
      "          \"system:index\": \"00000000000000000007\",\n",
      "          \"tessellate\": 1,\n",
      "          \"timestamp\": \"\",\n",
      "          \"visibility\": -1\n",
      "        }\n",
      "      }\n",
      "    }\n",
      "  }\n",
      "})\n"
     ]
    }
   ],
   "source": [
    "# Fundamental structure of beaver dam location table\n",
    "feature = ee.Feature(DamData.first().getInfo())\n",
    "print(feature) # Uncommit to view full feature description"
   ]
  },
  {
   "cell_type": "code",
   "execution_count": 12,
   "id": "6027bc96-c35b-4e62-bbde-887a7d27674d",
   "metadata": {},
   "outputs": [
    {
     "ename": "EEException",
     "evalue": "Collection.loadTable: Collection asset 'projects/ee-beaver-lab/assets/NegativePoints/fairfax_co_sample_20240223' not found.",
     "output_type": "error",
     "traceback": [
      "\u001b[0;31m---------------------------------------------------------------------------\u001b[0m",
      "\u001b[0;31mHttpError\u001b[0m                                 Traceback (most recent call last)",
      "File \u001b[0;32m/Applications/anaconda3/envs/geo_env/lib/python3.8/site-packages/ee/data.py:402\u001b[0m, in \u001b[0;36m_execute_cloud_call\u001b[0;34m(call, num_retries)\u001b[0m\n\u001b[1;32m    401\u001b[0m \u001b[38;5;28;01mtry\u001b[39;00m:\n\u001b[0;32m--> 402\u001b[0m   \u001b[38;5;28;01mreturn\u001b[39;00m \u001b[43mcall\u001b[49m\u001b[38;5;241;43m.\u001b[39;49m\u001b[43mexecute\u001b[49m\u001b[43m(\u001b[49m\u001b[43mnum_retries\u001b[49m\u001b[38;5;241;43m=\u001b[39;49m\u001b[43mnum_retries\u001b[49m\u001b[43m)\u001b[49m\n\u001b[1;32m    403\u001b[0m \u001b[38;5;28;01mexcept\u001b[39;00m googleapiclient\u001b[38;5;241m.\u001b[39merrors\u001b[38;5;241m.\u001b[39mHttpError \u001b[38;5;28;01mas\u001b[39;00m e:\n",
      "File \u001b[0;32m/Applications/anaconda3/envs/geo_env/lib/python3.8/site-packages/googleapiclient/_helpers.py:130\u001b[0m, in \u001b[0;36mpositional.<locals>.positional_decorator.<locals>.positional_wrapper\u001b[0;34m(*args, **kwargs)\u001b[0m\n\u001b[1;32m    129\u001b[0m         logger\u001b[38;5;241m.\u001b[39mwarning(message)\n\u001b[0;32m--> 130\u001b[0m \u001b[38;5;28;01mreturn\u001b[39;00m \u001b[43mwrapped\u001b[49m\u001b[43m(\u001b[49m\u001b[38;5;241;43m*\u001b[39;49m\u001b[43margs\u001b[49m\u001b[43m,\u001b[49m\u001b[43m \u001b[49m\u001b[38;5;241;43m*\u001b[39;49m\u001b[38;5;241;43m*\u001b[39;49m\u001b[43mkwargs\u001b[49m\u001b[43m)\u001b[49m\n",
      "File \u001b[0;32m/Applications/anaconda3/envs/geo_env/lib/python3.8/site-packages/googleapiclient/http.py:938\u001b[0m, in \u001b[0;36mHttpRequest.execute\u001b[0;34m(self, http, num_retries)\u001b[0m\n\u001b[1;32m    937\u001b[0m \u001b[38;5;28;01mif\u001b[39;00m resp\u001b[38;5;241m.\u001b[39mstatus \u001b[38;5;241m>\u001b[39m\u001b[38;5;241m=\u001b[39m \u001b[38;5;241m300\u001b[39m:\n\u001b[0;32m--> 938\u001b[0m     \u001b[38;5;28;01mraise\u001b[39;00m HttpError(resp, content, uri\u001b[38;5;241m=\u001b[39m\u001b[38;5;28mself\u001b[39m\u001b[38;5;241m.\u001b[39muri)\n\u001b[1;32m    939\u001b[0m \u001b[38;5;28;01mreturn\u001b[39;00m \u001b[38;5;28mself\u001b[39m\u001b[38;5;241m.\u001b[39mpostproc(resp, content)\n",
      "\u001b[0;31mHttpError\u001b[0m: <HttpError 400 when requesting https://earthengine.googleapis.com/v1/projects/project-beaver-415818/value:compute?prettyPrint=false&alt=json returned \"Collection.loadTable: Collection asset 'projects/ee-beaver-lab/assets/NegativePoints/fairfax_co_sample_20240223' not found.\". Details: \"Collection.loadTable: Collection asset 'projects/ee-beaver-lab/assets/NegativePoints/fairfax_co_sample_20240223' not found.\">",
      "\nDuring handling of the above exception, another exception occurred:\n",
      "\u001b[0;31mEEException\u001b[0m                               Traceback (most recent call last)",
      "Cell \u001b[0;32mIn[12], line 2\u001b[0m\n\u001b[1;32m      1\u001b[0m \u001b[38;5;66;03m# Fundamental structure of negative points location table\u001b[39;00m\n\u001b[0;32m----> 2\u001b[0m feature \u001b[38;5;241m=\u001b[39m ee\u001b[38;5;241m.\u001b[39mFeature(\u001b[43mNegData\u001b[49m\u001b[38;5;241;43m.\u001b[39;49m\u001b[43mfirst\u001b[49m\u001b[43m(\u001b[49m\u001b[43m)\u001b[49m\u001b[38;5;241;43m.\u001b[39;49m\u001b[43mgetInfo\u001b[49m\u001b[43m(\u001b[49m\u001b[43m)\u001b[49m)\n\u001b[1;32m      3\u001b[0m \u001b[38;5;28mprint\u001b[39m(feature)\n",
      "File \u001b[0;32m/Applications/anaconda3/envs/geo_env/lib/python3.8/site-packages/ee/computedobject.py:107\u001b[0m, in \u001b[0;36mComputedObject.getInfo\u001b[0;34m(self)\u001b[0m\n\u001b[1;32m    101\u001b[0m \u001b[38;5;28;01mdef\u001b[39;00m \u001b[38;5;21mgetInfo\u001b[39m(\u001b[38;5;28mself\u001b[39m) \u001b[38;5;241m-\u001b[39m\u001b[38;5;241m>\u001b[39m Optional[Any]:\n\u001b[1;32m    102\u001b[0m \u001b[38;5;250m  \u001b[39m\u001b[38;5;124;03m\"\"\"Fetch and return information about this object.\u001b[39;00m\n\u001b[1;32m    103\u001b[0m \n\u001b[1;32m    104\u001b[0m \u001b[38;5;124;03m  Returns:\u001b[39;00m\n\u001b[1;32m    105\u001b[0m \u001b[38;5;124;03m    The object can evaluate to anything.\u001b[39;00m\n\u001b[1;32m    106\u001b[0m \u001b[38;5;124;03m  \"\"\"\u001b[39;00m\n\u001b[0;32m--> 107\u001b[0m   \u001b[38;5;28;01mreturn\u001b[39;00m \u001b[43mdata\u001b[49m\u001b[38;5;241;43m.\u001b[39;49m\u001b[43mcomputeValue\u001b[49m\u001b[43m(\u001b[49m\u001b[38;5;28;43mself\u001b[39;49m\u001b[43m)\u001b[49m\n",
      "File \u001b[0;32m/Applications/anaconda3/envs/geo_env/lib/python3.8/site-packages/ee/data.py:1101\u001b[0m, in \u001b[0;36mcomputeValue\u001b[0;34m(obj)\u001b[0m\n\u001b[1;32m   1098\u001b[0m body \u001b[38;5;241m=\u001b[39m {\u001b[38;5;124m'\u001b[39m\u001b[38;5;124mexpression\u001b[39m\u001b[38;5;124m'\u001b[39m: serializer\u001b[38;5;241m.\u001b[39mencode(obj, for_cloud_api\u001b[38;5;241m=\u001b[39m\u001b[38;5;28;01mTrue\u001b[39;00m)}\n\u001b[1;32m   1099\u001b[0m _maybe_populate_workload_tag(body)\n\u001b[0;32m-> 1101\u001b[0m \u001b[38;5;28;01mreturn\u001b[39;00m \u001b[43m_execute_cloud_call\u001b[49m\u001b[43m(\u001b[49m\n\u001b[1;32m   1102\u001b[0m \u001b[43m    \u001b[49m\u001b[43m_get_cloud_projects\u001b[49m\u001b[43m(\u001b[49m\u001b[43m)\u001b[49m\n\u001b[1;32m   1103\u001b[0m \u001b[43m    \u001b[49m\u001b[38;5;241;43m.\u001b[39;49m\u001b[43mvalue\u001b[49m\u001b[43m(\u001b[49m\u001b[43m)\u001b[49m\n\u001b[1;32m   1104\u001b[0m \u001b[43m    \u001b[49m\u001b[38;5;241;43m.\u001b[39;49m\u001b[43mcompute\u001b[49m\u001b[43m(\u001b[49m\u001b[43mbody\u001b[49m\u001b[38;5;241;43m=\u001b[39;49m\u001b[43mbody\u001b[49m\u001b[43m,\u001b[49m\u001b[43m \u001b[49m\u001b[43mproject\u001b[49m\u001b[38;5;241;43m=\u001b[39;49m\u001b[43m_get_projects_path\u001b[49m\u001b[43m(\u001b[49m\u001b[43m)\u001b[49m\u001b[43m,\u001b[49m\u001b[43m \u001b[49m\u001b[43mprettyPrint\u001b[49m\u001b[38;5;241;43m=\u001b[39;49m\u001b[38;5;28;43;01mFalse\u001b[39;49;00m\u001b[43m)\u001b[49m\n\u001b[1;32m   1105\u001b[0m \u001b[43m\u001b[49m\u001b[43m)\u001b[49m[\u001b[38;5;124m'\u001b[39m\u001b[38;5;124mresult\u001b[39m\u001b[38;5;124m'\u001b[39m]\n",
      "File \u001b[0;32m/Applications/anaconda3/envs/geo_env/lib/python3.8/site-packages/ee/data.py:404\u001b[0m, in \u001b[0;36m_execute_cloud_call\u001b[0;34m(call, num_retries)\u001b[0m\n\u001b[1;32m    402\u001b[0m   \u001b[38;5;28;01mreturn\u001b[39;00m call\u001b[38;5;241m.\u001b[39mexecute(num_retries\u001b[38;5;241m=\u001b[39mnum_retries)\n\u001b[1;32m    403\u001b[0m \u001b[38;5;28;01mexcept\u001b[39;00m googleapiclient\u001b[38;5;241m.\u001b[39merrors\u001b[38;5;241m.\u001b[39mHttpError \u001b[38;5;28;01mas\u001b[39;00m e:\n\u001b[0;32m--> 404\u001b[0m   \u001b[38;5;28;01mraise\u001b[39;00m _translate_cloud_exception(e)\n",
      "\u001b[0;31mEEException\u001b[0m: Collection.loadTable: Collection asset 'projects/ee-beaver-lab/assets/NegativePoints/fairfax_co_sample_20240223' not found."
     ]
    }
   ],
   "source": [
    "# Fundamental structure of negative points location table\n",
    "feature = ee.Feature(NegData.first().getInfo())\n",
    "print(feature) # Uncommit to view full feature description"
   ]
  },
  {
   "cell_type": "markdown",
   "id": "a48b2205-ef32-48d0-ade3-4bbd218f767c",
   "metadata": {},
   "source": [
    "#### Part 3: Retrieve Data"
   ]
  },
  {
   "cell_type": "code",
   "execution_count": 11,
   "id": "96fba0ec-8c0a-4ea7-8fc3-47338a6623a8",
   "metadata": {},
   "outputs": [
    {
     "data": {
      "text/html": [
       "<div>\n",
       "<style scoped>\n",
       "    .dataframe tbody tr th:only-of-type {\n",
       "        vertical-align: middle;\n",
       "    }\n",
       "\n",
       "    .dataframe tbody tr th {\n",
       "        vertical-align: top;\n",
       "    }\n",
       "\n",
       "    .dataframe thead th {\n",
       "        text-align: right;\n",
       "    }\n",
       "</style>\n",
       "<table border=\"1\" class=\"dataframe\">\n",
       "  <thead>\n",
       "    <tr style=\"text-align: right;\">\n",
       "      <th></th>\n",
       "      <th>Longitude</th>\n",
       "      <th>Latitude</th>\n",
       "      <th>Name</th>\n",
       "      <th>system:index</th>\n",
       "      <th>altitudeMo</th>\n",
       "      <th>begin</th>\n",
       "      <th>descriptio</th>\n",
       "      <th>end</th>\n",
       "      <th>extrude</th>\n",
       "      <th>icon</th>\n",
       "      <th>layer</th>\n",
       "      <th>path</th>\n",
       "      <th>tessellate</th>\n",
       "      <th>timestamp</th>\n",
       "      <th>visibility</th>\n",
       "    </tr>\n",
       "  </thead>\n",
       "  <tbody>\n",
       "    <tr>\n",
       "      <th>0</th>\n",
       "      <td>-106.615059</td>\n",
       "      <td>40.967817</td>\n",
       "      <td>Colo_Dam_105</td>\n",
       "      <td>00000000000000000007</td>\n",
       "      <td></td>\n",
       "      <td></td>\n",
       "      <td></td>\n",
       "      <td></td>\n",
       "      <td>0</td>\n",
       "      <td></td>\n",
       "      <td>Colo_Dam_105 — FireDamsFairfax/ColoradoDams/Co...</td>\n",
       "      <td>/vsizip/C:/Users/Hutch/Downloads/FireDamsFairf...</td>\n",
       "      <td>1</td>\n",
       "      <td></td>\n",
       "      <td>-1</td>\n",
       "    </tr>\n",
       "    <tr>\n",
       "      <th>1</th>\n",
       "      <td>-106.615024</td>\n",
       "      <td>40.967862</td>\n",
       "      <td>Colo_Dam_105</td>\n",
       "      <td>00000000000000000007</td>\n",
       "      <td></td>\n",
       "      <td></td>\n",
       "      <td></td>\n",
       "      <td></td>\n",
       "      <td>0</td>\n",
       "      <td></td>\n",
       "      <td>Colo_Dam_105 — FireDamsFairfax/ColoradoDams/Co...</td>\n",
       "      <td>/vsizip/C:/Users/Hutch/Downloads/FireDamsFairf...</td>\n",
       "      <td>1</td>\n",
       "      <td></td>\n",
       "      <td>-1</td>\n",
       "    </tr>\n",
       "    <tr>\n",
       "      <th>2</th>\n",
       "      <td>-106.615001</td>\n",
       "      <td>40.967879</td>\n",
       "      <td>Colo_Dam_105</td>\n",
       "      <td>00000000000000000007</td>\n",
       "      <td></td>\n",
       "      <td></td>\n",
       "      <td></td>\n",
       "      <td></td>\n",
       "      <td>0</td>\n",
       "      <td></td>\n",
       "      <td>Colo_Dam_105 — FireDamsFairfax/ColoradoDams/Co...</td>\n",
       "      <td>/vsizip/C:/Users/Hutch/Downloads/FireDamsFairf...</td>\n",
       "      <td>1</td>\n",
       "      <td></td>\n",
       "      <td>-1</td>\n",
       "    </tr>\n",
       "    <tr>\n",
       "      <th>3</th>\n",
       "      <td>-106.614935</td>\n",
       "      <td>40.967897</td>\n",
       "      <td>Colo_Dam_105</td>\n",
       "      <td>00000000000000000007</td>\n",
       "      <td></td>\n",
       "      <td></td>\n",
       "      <td></td>\n",
       "      <td></td>\n",
       "      <td>0</td>\n",
       "      <td></td>\n",
       "      <td>Colo_Dam_105 — FireDamsFairfax/ColoradoDams/Co...</td>\n",
       "      <td>/vsizip/C:/Users/Hutch/Downloads/FireDamsFairf...</td>\n",
       "      <td>1</td>\n",
       "      <td></td>\n",
       "      <td>-1</td>\n",
       "    </tr>\n",
       "    <tr>\n",
       "      <th>4</th>\n",
       "      <td>-106.614881</td>\n",
       "      <td>40.967906</td>\n",
       "      <td>Colo_Dam_105</td>\n",
       "      <td>00000000000000000007</td>\n",
       "      <td></td>\n",
       "      <td></td>\n",
       "      <td></td>\n",
       "      <td></td>\n",
       "      <td>0</td>\n",
       "      <td></td>\n",
       "      <td>Colo_Dam_105 — FireDamsFairfax/ColoradoDams/Co...</td>\n",
       "      <td>/vsizip/C:/Users/Hutch/Downloads/FireDamsFairf...</td>\n",
       "      <td>1</td>\n",
       "      <td></td>\n",
       "      <td>-1</td>\n",
       "    </tr>\n",
       "  </tbody>\n",
       "</table>\n",
       "</div>"
      ],
      "text/plain": [
       "    Longitude   Latitude          Name          system:index altitudeMo begin  \\\n",
       "0 -106.615059  40.967817  Colo_Dam_105  00000000000000000007                    \n",
       "1 -106.615024  40.967862  Colo_Dam_105  00000000000000000007                    \n",
       "2 -106.615001  40.967879  Colo_Dam_105  00000000000000000007                    \n",
       "3 -106.614935  40.967897  Colo_Dam_105  00000000000000000007                    \n",
       "4 -106.614881  40.967906  Colo_Dam_105  00000000000000000007                    \n",
       "\n",
       "  descriptio end  extrude icon  \\\n",
       "0                       0        \n",
       "1                       0        \n",
       "2                       0        \n",
       "3                       0        \n",
       "4                       0        \n",
       "\n",
       "                                               layer  \\\n",
       "0  Colo_Dam_105 — FireDamsFairfax/ColoradoDams/Co...   \n",
       "1  Colo_Dam_105 — FireDamsFairfax/ColoradoDams/Co...   \n",
       "2  Colo_Dam_105 — FireDamsFairfax/ColoradoDams/Co...   \n",
       "3  Colo_Dam_105 — FireDamsFairfax/ColoradoDams/Co...   \n",
       "4  Colo_Dam_105 — FireDamsFairfax/ColoradoDams/Co...   \n",
       "\n",
       "                                                path  tessellate timestamp  \\\n",
       "0  /vsizip/C:/Users/Hutch/Downloads/FireDamsFairf...           1             \n",
       "1  /vsizip/C:/Users/Hutch/Downloads/FireDamsFairf...           1             \n",
       "2  /vsizip/C:/Users/Hutch/Downloads/FireDamsFairf...           1             \n",
       "3  /vsizip/C:/Users/Hutch/Downloads/FireDamsFairf...           1             \n",
       "4  /vsizip/C:/Users/Hutch/Downloads/FireDamsFairf...           1             \n",
       "\n",
       "   visibility  \n",
       "0          -1  \n",
       "1          -1  \n",
       "2          -1  \n",
       "3          -1  \n",
       "4          -1  "
      ]
     },
     "execution_count": 11,
     "metadata": {},
     "output_type": "execute_result"
    }
   ],
   "source": [
    "# Create an empty list to store data\n",
    "data_points = []\n",
    "\n",
    "# Iterate through every point in the DamData\n",
    "for feature in DamData.getInfo()['features']:\n",
    "    # Extract coordinates\n",
    "    coordinates = feature['geometry']['coordinates']\n",
    "    \n",
    "    # Extract metadata\n",
    "    metadata = feature['properties']\n",
    "    \n",
    "    for coord in coordinates:\n",
    "        \n",
    "        point_info = {\n",
    "            'Longitude': coord[0],\n",
    "            'Latitude': coord[1],\n",
    "            'Name': metadata['Name'],\n",
    "            'system:index': feature['id'],\n",
    "            'altitudeMo': metadata['altitudeMo'],\n",
    "            'begin': metadata['begin'],\n",
    "            'descriptio': metadata['descriptio'],\n",
    "            'end': metadata['end'],\n",
    "            'extrude': metadata['extrude'],\n",
    "            'icon': metadata['icon'],\n",
    "            'layer': metadata['layer'],\n",
    "            'path': metadata['path'],\n",
    "            'tessellate': metadata['tessellate'],\n",
    "            'timestamp': metadata['timestamp'],\n",
    "            'visibility': metadata['visibility']\n",
    "        }\n",
    "        \n",
    "        data_points.append(point_info)\n",
    "\n",
    "# Convert data points(list) to DataFrame\n",
    "df_dam = pd.DataFrame(data_points)\n",
    "\n",
    "# Examine the first lines DataFrame\n",
    "df_dam.head()"
   ]
  },
  {
   "cell_type": "code",
   "execution_count": 9,
   "id": "12f03dd9-a025-4495-b3d2-85186f697af3",
   "metadata": {},
   "outputs": [
    {
     "name": "stdout",
     "output_type": "stream",
     "text": [
      "Number of unique Names: 322\n"
     ]
    }
   ],
   "source": [
    "# Check number of unique Names\n",
    "unique_ids_count = df_dam['Name'].nunique()\n",
    "print(f\"Number of unique Names: {unique_ids_count}\")"
   ]
  },
  {
   "cell_type": "code",
   "execution_count": 10,
   "id": "58c377f4-18b2-4a39-afef-50bcb18429c8",
   "metadata": {},
   "outputs": [
    {
     "data": {
      "text/html": [
       "<div>\n",
       "<style scoped>\n",
       "    .dataframe tbody tr th:only-of-type {\n",
       "        vertical-align: middle;\n",
       "    }\n",
       "\n",
       "    .dataframe tbody tr th {\n",
       "        vertical-align: top;\n",
       "    }\n",
       "\n",
       "    .dataframe thead th {\n",
       "        text-align: right;\n",
       "    }\n",
       "</style>\n",
       "<table border=\"1\" class=\"dataframe\">\n",
       "  <thead>\n",
       "    <tr style=\"text-align: right;\">\n",
       "      <th></th>\n",
       "      <th>Longitude</th>\n",
       "      <th>Latitude</th>\n",
       "      <th>Name</th>\n",
       "      <th>system:index</th>\n",
       "    </tr>\n",
       "  </thead>\n",
       "  <tbody>\n",
       "    <tr>\n",
       "      <th>0</th>\n",
       "      <td>-106.625645</td>\n",
       "      <td>40.954979</td>\n",
       "      <td>Colo_Dam_189</td>\n",
       "      <td>00000000000000000027</td>\n",
       "    </tr>\n",
       "    <tr>\n",
       "      <th>1</th>\n",
       "      <td>-106.625645</td>\n",
       "      <td>40.954979</td>\n",
       "      <td>Colo_Dam_15</td>\n",
       "      <td>0000000000000000007f</td>\n",
       "    </tr>\n",
       "    <tr>\n",
       "      <th>2</th>\n",
       "      <td>-106.616437</td>\n",
       "      <td>40.892770</td>\n",
       "      <td>Colo_Dam_6</td>\n",
       "      <td>00000000000000000054</td>\n",
       "    </tr>\n",
       "    <tr>\n",
       "      <th>3</th>\n",
       "      <td>-106.616437</td>\n",
       "      <td>40.892770</td>\n",
       "      <td>Colo_Dam_7</td>\n",
       "      <td>00000000000000000068</td>\n",
       "    </tr>\n",
       "    <tr>\n",
       "      <th>4</th>\n",
       "      <td>-106.615541</td>\n",
       "      <td>40.935439</td>\n",
       "      <td>Colo_Dam_197</td>\n",
       "      <td>00000000000000000025</td>\n",
       "    </tr>\n",
       "  </tbody>\n",
       "</table>\n",
       "</div>"
      ],
      "text/plain": [
       "    Longitude   Latitude          Name          system:index\n",
       "0 -106.625645  40.954979  Colo_Dam_189  00000000000000000027\n",
       "1 -106.625645  40.954979   Colo_Dam_15  0000000000000000007f\n",
       "2 -106.616437  40.892770    Colo_Dam_6  00000000000000000054\n",
       "3 -106.616437  40.892770    Colo_Dam_7  00000000000000000068\n",
       "4 -106.615541  40.935439  Colo_Dam_197  00000000000000000025"
      ]
     },
     "execution_count": 10,
     "metadata": {},
     "output_type": "execute_result"
    }
   ],
   "source": [
    "# Create an empty list to store data\n",
    "data_points = []\n",
    "\n",
    "# Iterate through every point in the DamData\n",
    "for feature in NegData.getInfo()['features']:\n",
    "    \n",
    "    point_info = {\n",
    "        'Longitude': feature['geometry']['coordinates'][0],\n",
    "        'Latitude': feature['geometry']['coordinates'][1],\n",
    "        'Name': feature['properties']['beaverDamID'],\n",
    "        'system:index': feature['id']\n",
    "    }\n",
    "    \n",
    "    data_points.append(point_info)\n",
    "\n",
    "# Convert data points(list) to DataFrame\n",
    "df_neg = pd.DataFrame(data_points)\n",
    "\n",
    "# Examine the first lines DataFrame\n",
    "df_neg.head()"
   ]
  },
  {
   "cell_type": "code",
   "execution_count": 11,
   "id": "c86814e6-cdf1-44de-a47d-cc1f4e1538f9",
   "metadata": {},
   "outputs": [
    {
     "name": "stdout",
     "output_type": "stream",
     "text": [
      "Number of unique Names: 193\n"
     ]
    }
   ],
   "source": [
    "# Check number of unique Names\n",
    "unique_ids_count = df_neg['Name'].nunique()\n",
    "print(f\"Number of unique Names: {unique_ids_count}\")"
   ]
  },
  {
   "cell_type": "markdown",
   "id": "377c436b-5d1c-4917-a9a9-31fad572cf1e",
   "metadata": {},
   "source": [
    "#### Part 4: Download the file"
   ]
  },
  {
   "cell_type": "code",
   "execution_count": 14,
   "id": "069b427f-b215-44dd-a99e-26ef7fef4eb5",
   "metadata": {},
   "outputs": [
    {
     "data": {
      "text/html": [
       "<a href='df_dam.csv' target='_blank'>df_dam.csv</a><br>"
      ],
      "text/plain": [
       "/Users/ziyukong/codebase/BEAVER/MAIN/main/df_dam.csv"
      ]
     },
     "execution_count": 14,
     "metadata": {},
     "output_type": "execute_result"
    }
   ],
   "source": [
    "from IPython.display import FileLink\n",
    "\n",
    "df_dam.to_csv('df_dam.csv', index=False)\n",
    "FileLink('df_dam.csv')"
   ]
  },
  {
   "cell_type": "code",
   "execution_count": 13,
   "id": "22cb2449-6df3-492a-adea-315f018675c0",
   "metadata": {},
   "outputs": [
    {
     "data": {
      "text/html": [
       "<a href='df_neg.csv' target='_blank'>df_neg.csv</a><br>"
      ],
      "text/plain": [
       "/Users/ziyukong/codebase/BEAVER/MAIN/main/df_neg.csv"
      ]
     },
     "execution_count": 13,
     "metadata": {},
     "output_type": "execute_result"
    }
   ],
   "source": [
    "df_neg.to_csv('df_neg.csv', index=False)\n",
    "FileLink('df_neg.csv')"
   ]
  },
  {
   "cell_type": "code",
   "execution_count": null,
   "id": "089e3dff-3b07-4bba-a7e5-0abb391fc98d",
   "metadata": {},
   "outputs": [],
   "source": []
  }
 ],
 "metadata": {
  "kernelspec": {
   "display_name": "Python 3 (ipykernel)",
   "language": "python",
   "name": "python3"
  },
  "language_info": {
   "codemirror_mode": {
    "name": "ipython",
    "version": 3
   },
   "file_extension": ".py",
   "mimetype": "text/x-python",
   "name": "python",
   "nbconvert_exporter": "python",
   "pygments_lexer": "ipython3",
   "version": "3.11.4"
  }
 },
 "nbformat": 4,
 "nbformat_minor": 5
}
