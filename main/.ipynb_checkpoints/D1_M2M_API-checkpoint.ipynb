{
 "cells": [
  {
   "cell_type": "markdown",
   "id": "ae6bcaad-29d4-45e3-9a7d-fceb5beb8809",
   "metadata": {},
   "source": [
    "## Step 1: Connect to M2M USGS API"
   ]
  },
  {
   "cell_type": "code",
   "execution_count": 131,
   "id": "22c756a3-278b-4d9d-a13e-863a2773ddb6",
   "metadata": {},
   "outputs": [],
   "source": [
    "from M2M_package import api"
   ]
  },
  {
   "cell_type": "code",
   "execution_count": 133,
   "id": "44a038eb-3085-42f1-beb4-ceb74ba2515d",
   "metadata": {},
   "outputs": [],
   "source": [
    "username = 'zk2086'\n",
    "password = 'Wohechunge2002@'\n",
    "token = \"Yfq@gleb2SsNf4VjuwFIh3@hmZV5DA_5UR1gWrx6Yl4hQa4p5YL7ds!fhkssxorJ\"\n",
    "m2m = api.M2M(username, password) # Instantiate the API class and it will prompt you to enter the credentials."
   ]
  },
  {
   "cell_type": "markdown",
   "id": "b214672c-0cec-4e6b-b6fd-56f70571a78d",
   "metadata": {},
   "source": [
    "## Step 2: Check API Permission"
   ]
  },
  {
   "cell_type": "code",
   "execution_count": null,
   "id": "3a316820-0add-47e2-b704-c14a4720008b",
   "metadata": {},
   "outputs": [],
   "source": [
    "m2m.permissions"
   ]
  },
  {
   "cell_type": "markdown",
   "id": "60801cf7-91f9-4d15-b56c-d23725cf98df",
   "metadata": {},
   "source": [
    "## Step 3: Search for Available USGS Datasets"
   ]
  },
  {
   "cell_type": "code",
   "execution_count": null,
   "id": "f3067348-e1b7-4a4b-b06c-336e84a31dfc",
   "metadata": {},
   "outputs": [],
   "source": [
    "# print(m2m.datasetNames)"
   ]
  },
  {
   "cell_type": "markdown",
   "id": "ee3a1827-b3d2-479a-af58-05b9343baf0b",
   "metadata": {},
   "source": [
    "#### Available Landsat Datasets:\n",
    " - 'landsat_mss_c2_l1'\n",
    " - 'landsat_tm_c2_l1'\n",
    " - 'landsat_tm_c2_l2'\n",
    " - 'landsat_ba_tile_files_c2'\n",
    " - 'landsat_ba_tile_c2'\n",
    " - 'landsat_dswe_tile_files_c2'\n",
    " - 'landsat_dswe_tile_c2'\n",
    " - 'landsat_fsca_tile_c2'\n",
    " - 'landsat_fsca_tile_stat_c2'\n",
    " - 'landsat_fsca_tile_stats_files_c2'\n",
    " - 'landsat_fsca_tile_files_c2'\n",
    " - 'landsat_ard_tile_c2'\n",
    " - 'landsat_etm_c2_l1'\n",
    " - 'landsat_etm_c2_l2'\n",
    " - 'landsat_ot_c2_l1'\n",
    " - 'landsat_ot_c2_l2'\n",
    " - 'landsat_band_files_c2_l1'\n",
    " - 'landsat_band_files_c2_l2'"
   ]
  },
  {
   "cell_type": "code",
   "execution_count": 135,
   "id": "68133372-3e86-494e-96fc-805d7b41fc6a",
   "metadata": {},
   "outputs": [
    {
     "data": {
      "text/plain": [
       "[{'abstractText': 'The USGS Earth Resources Observation and Science (EROS) Center archive holds data collected by the Landsat suite of satellites, beginning with Landsat 1 in 1972.  All Landsat data held in the USGS EROS archive are available for download at no charge. ',\n",
       "  'acquisitionStart': '1999-07-23',\n",
       "  'acquisitionEnd': None,\n",
       "  'catalogs': ['EE', 'GVN'],\n",
       "  'collectionName': 'Landsat 7 ETM+ C2 L2',\n",
       "  'collectionLongName': 'Landsat 7 Enhanced Thematic Mapper Plus Collection 2 Level-2',\n",
       "  'datasetId': '5e83d12add5d4aa1',\n",
       "  'datasetAlias': 'landsat_etm_c2_l2',\n",
       "  'datasetCategoryName': 'Landsat Collection 2 Level-2',\n",
       "  'dataOwner': 'LSAA',\n",
       "  'dateUpdated': '2023-10-20 06:18:20.277736-05',\n",
       "  'doiNumber': 'https://doi.org/10.5066/P9C7I13B ',\n",
       "  'ingestFrequency': 'P1D',\n",
       "  'keywords': 'None,Visible Wavelengths,Enhanced Thematic Mapper (ETM),Landsat,Infrared Imagery,Radiance,Landsat 7 ETM+ Collection 2,Remote Sensing,Thematic Mapper,Satellite,Visible Imagery,Earth Science,Infrared Wavelengths,U.S. Geological Survey (USGS),Earth Resources Observation and Science (EROS) Center,Imagery,ISO 19115 Topic Category,imageryBaseMapsEarthCover',\n",
       "  'legacyId': 9886,\n",
       "  'sceneCount': 3254361,\n",
       "  'spatialBounds': {'north': 82.769116871,\n",
       "   'east': 194.178290063,\n",
       "   'south': -82.718697104,\n",
       "   'west': -180.009015895},\n",
       "  'temporalCoverage': '[\"1999-05-28 00:00:00-05\",\"2024-01-19 00:00:00-06\"]',\n",
       "  'supportCloudCover': True,\n",
       "  'supportDeletionSearch': True,\n",
       "  'allowInKmz': True}]"
      ]
     },
     "execution_count": 135,
     "metadata": {},
     "output_type": "execute_result"
    }
   ],
   "source": [
    "target = 'landsat_etm_c2_l2' # enter the dataset/satellite we use\n",
    "dataset = m2m.searchDatasets(datasetName = target)\n",
    "dataset"
   ]
  },
  {
   "cell_type": "markdown",
   "id": "177faf12-ecad-4aab-9a4f-e3d2081805fe",
   "metadata": {},
   "source": [
    "## Step 4: Search for Filters for A Specific Dataset"
   ]
  },
  {
   "cell_type": "code",
   "execution_count": 137,
   "id": "f58d6e46-bcc4-4ed6-8c42-bc205bd67237",
   "metadata": {},
   "outputs": [
    {
     "data": {
      "text/plain": [
       "[{'id': '5e83d12a131d101c',\n",
       "  'legacyFieldId': 27843,\n",
       "  'dictionaryLink': 'https://www.usgs.gov/centers/eros/science/landsat-collection-2-data-dictionary#landsat_product_id',\n",
       "  'fieldConfig': {'type': 'Text',\n",
       "   'filters': [{'type': 'StringToUpper', 'options': []},\n",
       "    {'type': 'Application\\\\Filter\\\\Like', 'options': []}],\n",
       "   'options': {'size': '50'},\n",
       "   'validators': [],\n",
       "   'numElements': '5',\n",
       "   'displayListId': None},\n",
       "  'fieldLabel': 'Landsat Product Identifier L2',\n",
       "  'searchSql': 'LANDSAT_PRODUCT_ID_L2 like ?'},\n",
       " {'id': '5e83d12ac4ce7646',\n",
       "  'legacyFieldId': 27860,\n",
       "  'dictionaryLink': 'https://www.usgs.gov/centers/eros/science/landsat-collection-2-data-dictionary#landsat_product_id',\n",
       "  'fieldConfig': {'type': 'Text',\n",
       "   'filters': [{'type': 'StringToUpper', 'options': {}},\n",
       "    {'type': 'Application\\\\Filter\\\\Like', 'options': {}}],\n",
       "   'options': {'size': '45'},\n",
       "   'validators': [],\n",
       "   'displayListId': ''},\n",
       "  'fieldLabel': 'Landsat Product Identifier L1',\n",
       "  'searchSql': 'LANDSAT_PRODUCT_ID_L1 like ?'},\n",
       " {'id': '5e83d12a5ba452da',\n",
       "  'legacyFieldId': 27859,\n",
       "  'dictionaryLink': 'https://www.usgs.gov/centers/eros/science/landsat-collection-2-data-dictionary#landsat_scene_id',\n",
       "  'fieldConfig': {'type': 'Text',\n",
       "   'filters': [{'type': 'StringToUpper', 'options': []},\n",
       "    {'type': 'Application\\\\Filter\\\\Like', 'options': []}],\n",
       "   'options': {'size': '45'},\n",
       "   'validators': [],\n",
       "   'numElements': '5',\n",
       "   'displayListId': None},\n",
       "  'fieldLabel': 'Landsat Scene Identifier',\n",
       "  'searchSql': 'ENTITY_ID like ?'},\n",
       " {'id': '5e83d12a85c68941',\n",
       "  'legacyFieldId': 27844,\n",
       "  'dictionaryLink': 'https://www.usgs.gov/centers/eros/science/landsat-collection-2-data-dictionary#wrs_path',\n",
       "  'fieldConfig': {'type': 'Range',\n",
       "   'filters': [],\n",
       "   'options': [],\n",
       "   'validators': [],\n",
       "   'numElements': 1,\n",
       "   'displayListId': None},\n",
       "  'fieldLabel': 'WRS Path',\n",
       "  'searchSql': 'WRS_PATH between ?'},\n",
       " {'id': '5e83d12a86c531b9',\n",
       "  'legacyFieldId': 27845,\n",
       "  'dictionaryLink': 'https://www.usgs.gov/centers/eros/science/landsat-collection-2-data-dictionary#wrs_row',\n",
       "  'fieldConfig': {'type': 'Range',\n",
       "   'filters': [],\n",
       "   'options': [],\n",
       "   'validators': [],\n",
       "   'numElements': 1,\n",
       "   'displayListId': None},\n",
       "  'fieldLabel': 'WRS Row',\n",
       "  'searchSql': 'WRS_ROW between ?'},\n",
       " {'id': '5e83d12a5887e689',\n",
       "  'legacyFieldId': 27851,\n",
       "  'dictionaryLink': 'https://www.usgs.gov/centers/eros/science/landsat-collection-2-data-dictionary#scan_line_corrector',\n",
       "  'fieldConfig': {'type': 'Select',\n",
       "   'filters': [{'type': 'StringToUpper', 'options': []}],\n",
       "   'options': {'size': '3', 'multiple': True},\n",
       "   'validators': [],\n",
       "   'numElements': 1,\n",
       "   'displayListId': '2832'},\n",
       "  'fieldLabel': 'Scan Line Corrector',\n",
       "  'searchSql': 'SENSOR_MODE_SLC = ?',\n",
       "  'valueList': {'': 'All',\n",
       "   'ON': 'SLC-on (1999-2003)',\n",
       "   'OFF': 'SLC-off (2003-present)'}},\n",
       " {'id': '5f6a7054932794b4',\n",
       "  'legacyFieldId': None,\n",
       "  'dictionaryLink': 'https://www.usgs.gov/centers/eros/science/landsat-collection-2-data-dictionary#collection_category',\n",
       "  'fieldConfig': {'type': 'Select',\n",
       "   'filters': [],\n",
       "   'options': {},\n",
       "   'validators': [],\n",
       "   'displayListId': '2825'},\n",
       "  'fieldLabel': 'Collection Category',\n",
       "  'searchSql': 'COLLECTION_CATEGORY = ?',\n",
       "  'valueList': {'': 'All', 'T1': 'Tier 1', 'T2': 'Tier 2', 'RT': 'Real-Time'}},\n",
       " {'id': '5f6a7075263ae4d0',\n",
       "  'legacyFieldId': None,\n",
       "  'dictionaryLink': 'https://www.usgs.gov/centers/eros/science/landsat-collection-2-data-dictionary#date_l2_generated',\n",
       "  'fieldConfig': {'type': 'Range',\n",
       "   'filters': [],\n",
       "   'options': {},\n",
       "   'validators': [{'type': 'Date', 'options': {}}],\n",
       "   'displayListId': ''},\n",
       "  'fieldLabel': 'Date Product Generated L2 (YYYY/MM/DD)',\n",
       "  'searchSql': 'trunc(DATE_L2_GENERATED) between ?'},\n",
       " {'id': '5e83d12a2c131715',\n",
       "  'legacyFieldId': 27864,\n",
       "  'dictionaryLink': 'https://www.usgs.gov/centers/eros/science/landsat-collection-2-data-dictionary#date_l1_generated',\n",
       "  'fieldConfig': {'type': 'Range',\n",
       "   'filters': [],\n",
       "   'options': {},\n",
       "   'validators': [{'type': 'Date', 'options': {}}],\n",
       "   'displayListId': ''},\n",
       "  'fieldLabel': 'Date Product Generated L1 (YYYY/MM/DD)',\n",
       "  'searchSql': 'trunc(DATE_L1_GENERATED) between ?'}]"
      ]
     },
     "execution_count": 137,
     "metadata": {},
     "output_type": "execute_result"
    }
   ],
   "source": [
    "datasetFilters = m2m.datasetFilters(datasetName=\"landsat_etm_c2_l2\")\n",
    "datasetFilters"
   ]
  },
  {
   "cell_type": "markdown",
   "id": "6ef4c71a-2b94-4080-ae1f-6520b36cd817",
   "metadata": {},
   "source": [
    "## Search Scenes by Parameters"
   ]
  },
  {
   "cell_type": "code",
   "execution_count": 139,
   "id": "d4323f25-129c-4e71-a1b1-212fa9ff00b8",
   "metadata": {},
   "outputs": [
    {
     "name": "stdout",
     "output_type": "stream",
     "text": [
      "landsat_etm_c2_l2 - 4 hits - 4 returned\n"
     ]
    }
   ],
   "source": [
    "datasetName=\"landsat_etm_c2_l2\"\n",
    "\n",
    "params = {\n",
    "    \"datasetName\": \"landsat_etm_c2_l2\",\n",
    "    \"startDate\": \"2020-08-01\",\n",
    "    \"endDate\": \"2020-08-01\",\n",
    "    \"boundingBox\": (-126.471753, -112.426439,\n",
    "                    32.135664, 42.399335),\n",
    "    \"maxResults\": 200,\n",
    "    \"maxCC\": 10\n",
    "}\n",
    "scenes = m2m.searchScenes(**params)\n",
    "print(\"{} - {} hits - {} returned\".format(datasetName,scenes['totalHits'],scenes['recordsReturned']))"
   ]
  },
  {
   "cell_type": "code",
   "execution_count": 141,
   "id": "95d85f94-dbc0-493b-bc8e-eca774d222c4",
   "metadata": {
    "tags": []
   },
   "outputs": [
    {
     "data": {
      "text/plain": [
       "{'results': [{'browse': [{'id': '5fb4b8c7a9e1cd9f',\n",
       "     'browseRotationEnabled': None,\n",
       "     'browseName': 'Level-1 Reflective Browse',\n",
       "     'browsePath': 'https://landsatlook.usgs.gov/gen-browse?size=rrb&type=refl&product_id=LE07_L1TP_044030_20200801_20200914_02_T1',\n",
       "     'overlayPath': 'https://landsatlook.usgs.gov/dynamic-tiler/scenes/LE07_L1TP_044030_20200801_20200914_02_T1/tiles/{z}/{x}/{y}.png?layer=natural_color',\n",
       "     'overlayType': 'ls_chs',\n",
       "     'thumbnailPath': 'https://landsatlook.usgs.gov/gen-browse?size=thumb&type=refl&product_id=LE07_L1TP_044030_20200801_20200914_02_T1'}],\n",
       "   'cloudCover': 1,\n",
       "   'entityId': 'LE70440302020214EDC00',\n",
       "   'displayId': 'LE07_L2SP_044030_20200801_20200914_02_T1',\n",
       "   'orderingId': None,\n",
       "   'metadata': [],\n",
       "   'hasCustomizedMetadata': None,\n",
       "   'options': {'bulk': True,\n",
       "    'download': True,\n",
       "    'order': False,\n",
       "    'secondary': False},\n",
       "   'selected': {'bulk': False, 'compare': False, 'order': False},\n",
       "   'spatialBounds': {'type': 'Polygon',\n",
       "    'coordinates': [[[-121.82816, 42.23088],\n",
       "      [-121.82816, 44.1574],\n",
       "      [-118.97672, 44.1574],\n",
       "      [-118.97672, 42.23088],\n",
       "      [-121.82816, 42.23088]]]},\n",
       "   'spatialCoverage': {'type': 'Polygon',\n",
       "    'coordinates': [[[-121.82816, 42.55713],\n",
       "      [-119.54479, 42.23088],\n",
       "      [-118.97672, 43.82242],\n",
       "      [-121.31915, 44.1574],\n",
       "      [-121.82816, 42.55713]]]},\n",
       "   'temporalCoverage': {'endDate': '2020-08-01 00:00:00',\n",
       "    'startDate': '2020-08-01 00:00:00'},\n",
       "   'publishDate': '2022-06-22 18:47:24-05'},\n",
       "  {'browse': [{'id': '5fb4b8c7a9e1cd9f',\n",
       "     'browseRotationEnabled': None,\n",
       "     'browseName': 'Level-1 Reflective Browse',\n",
       "     'browsePath': 'https://landsatlook.usgs.gov/gen-browse?size=rrb&type=refl&product_id=LE07_L1TP_044031_20200801_20200914_02_T1',\n",
       "     'overlayPath': 'https://landsatlook.usgs.gov/dynamic-tiler/scenes/LE07_L1TP_044031_20200801_20200914_02_T1/tiles/{z}/{x}/{y}.png?layer=natural_color',\n",
       "     'overlayType': 'ls_chs',\n",
       "     'thumbnailPath': 'https://landsatlook.usgs.gov/gen-browse?size=thumb&type=refl&product_id=LE07_L1TP_044031_20200801_20200914_02_T1'}],\n",
       "   'cloudCover': 0,\n",
       "   'entityId': 'LE70440312020214EDC00',\n",
       "   'displayId': 'LE07_L2SP_044031_20200801_20200914_02_T1',\n",
       "   'orderingId': None,\n",
       "   'metadata': [],\n",
       "   'hasCustomizedMetadata': None,\n",
       "   'options': {'bulk': True,\n",
       "    'download': True,\n",
       "    'order': False,\n",
       "    'secondary': False},\n",
       "   'selected': {'bulk': False, 'compare': False, 'order': False},\n",
       "   'spatialBounds': {'type': 'Polygon',\n",
       "    'coordinates': [[[-122.26734, 40.80678],\n",
       "      [-122.26734, 42.72762],\n",
       "      [-119.48556, 42.72762],\n",
       "      [-119.48556, 40.80678],\n",
       "      [-122.26734, 40.80678]]]},\n",
       "   'spatialCoverage': {'type': 'Polygon',\n",
       "    'coordinates': [[[-122.26734, 41.1259],\n",
       "      [-120.03304, 40.80678],\n",
       "      [-119.48556, 42.40049],\n",
       "      [-121.77501, 42.72762],\n",
       "      [-122.26734, 41.1259]]]},\n",
       "   'temporalCoverage': {'endDate': '2020-08-01 00:00:00',\n",
       "    'startDate': '2020-08-01 00:00:00'},\n",
       "   'publishDate': '2022-06-22 18:47:24-05'},\n",
       "  {'browse': [{'id': '5fb4b8c7a9e1cd9f',\n",
       "     'browseRotationEnabled': None,\n",
       "     'browseName': 'Level-1 Reflective Browse',\n",
       "     'browsePath': 'https://landsatlook.usgs.gov/gen-browse?size=rrb&type=refl&product_id=LE07_L1TP_044032_20200801_20200914_02_T1',\n",
       "     'overlayPath': 'https://landsatlook.usgs.gov/dynamic-tiler/scenes/LE07_L1TP_044032_20200801_20200914_02_T1/tiles/{z}/{x}/{y}.png?layer=natural_color',\n",
       "     'overlayType': 'ls_chs',\n",
       "     'thumbnailPath': 'https://landsatlook.usgs.gov/gen-browse?size=thumb&type=refl&product_id=LE07_L1TP_044032_20200801_20200914_02_T1'}],\n",
       "   'cloudCover': 0,\n",
       "   'entityId': 'LE70440322020214EDC00',\n",
       "   'displayId': 'LE07_L2SP_044032_20200801_20200914_02_T1',\n",
       "   'orderingId': None,\n",
       "   'metadata': [],\n",
       "   'hasCustomizedMetadata': None,\n",
       "   'options': {'bulk': True,\n",
       "    'download': True,\n",
       "    'order': False,\n",
       "    'secondary': False},\n",
       "   'selected': {'bulk': False, 'compare': False, 'order': False},\n",
       "   'spatialBounds': {'type': 'Polygon',\n",
       "    'coordinates': [[[-122.69254, 39.3809],\n",
       "      [-122.69254, 41.29671],\n",
       "      [-119.97595, 41.29671],\n",
       "      [-119.97595, 39.3809],\n",
       "      [-122.69254, 39.3809]]]},\n",
       "   'spatialCoverage': {'type': 'Polygon',\n",
       "    'coordinates': [[[-122.69254, 39.69327],\n",
       "      [-120.50403, 39.3809],\n",
       "      [-119.97595, 40.97681],\n",
       "      [-122.21595, 41.29671],\n",
       "      [-122.69254, 39.69327]]]},\n",
       "   'temporalCoverage': {'endDate': '2020-08-01 00:00:00',\n",
       "    'startDate': '2020-08-01 00:00:00'},\n",
       "   'publishDate': '2022-06-22 18:47:24-05'},\n",
       "  {'browse': [{'id': '5fb4b8c7a9e1cd9f',\n",
       "     'browseRotationEnabled': None,\n",
       "     'browseName': 'Level-1 Reflective Browse',\n",
       "     'browsePath': 'https://landsatlook.usgs.gov/gen-browse?size=rrb&type=refl&product_id=LE07_L1TP_044033_20200801_20200914_02_T1',\n",
       "     'overlayPath': 'https://landsatlook.usgs.gov/dynamic-tiler/scenes/LE07_L1TP_044033_20200801_20200914_02_T1/tiles/{z}/{x}/{y}.png?layer=natural_color',\n",
       "     'overlayType': 'ls_chs',\n",
       "     'thumbnailPath': 'https://landsatlook.usgs.gov/gen-browse?size=thumb&type=refl&product_id=LE07_L1TP_044033_20200801_20200914_02_T1'}],\n",
       "   'cloudCover': 0,\n",
       "   'entityId': 'LE70440332020214EDC00',\n",
       "   'displayId': 'LE07_L2SP_044033_20200801_20200914_02_T1',\n",
       "   'orderingId': None,\n",
       "   'metadata': [],\n",
       "   'hasCustomizedMetadata': None,\n",
       "   'options': {'bulk': True,\n",
       "    'download': True,\n",
       "    'order': False,\n",
       "    'secondary': False},\n",
       "   'selected': {'bulk': False, 'compare': False, 'order': False},\n",
       "   'spatialBounds': {'type': 'Polygon',\n",
       "    'coordinates': [[[-123.1041, 37.95792],\n",
       "      [-123.1041, 39.8684],\n",
       "      [-120.44759, 39.8684],\n",
       "      [-120.44759, 37.95792],\n",
       "      [-123.1041, 37.95792]]]},\n",
       "   'spatialCoverage': {'type': 'Polygon',\n",
       "    'coordinates': [[[-123.1041, 38.26408],\n",
       "      [-120.95824, 37.95792],\n",
       "      [-120.44759, 39.55519],\n",
       "      [-122.64152, 39.8684],\n",
       "      [-123.1041, 38.26408]]]},\n",
       "   'temporalCoverage': {'endDate': '2020-08-01 00:00:00',\n",
       "    'startDate': '2020-08-01 00:00:00'},\n",
       "   'publishDate': '2022-06-22 18:47:24-05'}],\n",
       " 'recordsReturned': 4,\n",
       " 'totalHits': 4,\n",
       " 'totalHitsAccuracy': 'calculated',\n",
       " 'isCustomized': False,\n",
       " 'numExcluded': 0,\n",
       " 'startingNumber': 1,\n",
       " 'nextRecord': 4}"
      ]
     },
     "execution_count": 141,
     "metadata": {},
     "output_type": "execute_result"
    }
   ],
   "source": [
    "scenes"
   ]
  },
  {
   "cell_type": "code",
   "execution_count": null,
   "id": "3b55cbcb-2f1c-41b5-8493-01da0710eabf",
   "metadata": {},
   "outputs": [],
   "source": [
    "entityId = scenes['results'][0]['entityId']\n",
    "entityId"
   ]
  },
  {
   "cell_type": "code",
   "execution_count": null,
   "id": "21a0b197-f25d-4d4a-8815-974706c94fc8",
   "metadata": {
    "tags": []
   },
   "outputs": [],
   "source": [
    "downloadOptions = m2m.downloadOptions(\"landsat_etm_c2_l2\", entityId)\n",
    "downloadOptions"
   ]
  },
  {
   "cell_type": "code",
   "execution_count": null,
   "id": "e4ca3791-a6a4-4cab-b64c-892a3aa83582",
   "metadata": {
    "tags": []
   },
   "outputs": [],
   "source": [
    "scenes"
   ]
  },
  {
   "cell_type": "code",
   "execution_count": null,
   "id": "3a83e0f7-2eb8-4886-b454-33af5592ac24",
   "metadata": {},
   "outputs": [],
   "source": [
    "downloadMetadata = m2m.retrieveScenes(\"landsat_etm_c2_l2\", scenes)"
   ]
  },
  {
   "cell_type": "markdown",
   "id": "1b12a748-11d8-4e8b-b8f1-1fffcc66623a",
   "metadata": {},
   "source": [
    "## California"
   ]
  },
  {
   "cell_type": "code",
   "execution_count": null,
   "id": "c40b0084-988b-4490-8ebb-67dcf2a99643",
   "metadata": {
    "tags": []
   },
   "outputs": [],
   "source": [
    "import pandas as pd\n",
    "import numpy as np\n",
    "\n",
    "# Read dam data\n",
    "file_path = 'data/CA_df_dam.csv'\n",
    "df_dam = pd.read_csv(file_path)\n",
    "\n",
    "# Check the dataframe\n",
    "# df_dam.head()\n",
    "\n",
    "df_head = df_dam.head()"
   ]
  },
  {
   "cell_type": "code",
   "execution_count": null,
   "id": "1731d586-1988-4fbe-ab86-c0b1739c96b6",
   "metadata": {
    "tags": []
   },
   "outputs": [],
   "source": [
    "# Instantiate M2M object\n",
    "username = 'zk2086'\n",
    "password = 'Wohechunge2002@'\n",
    "token = \"Yfq@gleb2SsNf4VjuwFIh3@hmZV5DA_5UR1gWrx6Yl4hQa4p5YL7ds!fhkssxorJ\"\n",
    "m2m = api.M2M(username, password)"
   ]
  },
  {
   "cell_type": "code",
   "execution_count": null,
   "id": "c533968f-b9a5-4e04-8209-49d23c8d5ddf",
   "metadata": {
    "tags": []
   },
   "outputs": [],
   "source": [
    "# Define the function\n",
    "def download_dam_images(dam_data):\n",
    "    for index, row in dam_data.iterrows():\n",
    "        damid = row['damid']\n",
    "        date = row['date']\n",
    "        longitude = row['longitude']\n",
    "        latitude = row['latitude']\n",
    "        \n",
    "        # Define spatial filter\n",
    "        spatialFilters = {\n",
    "            'filterType': 'mbr',\n",
    "            'lowerLeft': {'latitude': latitude - 0.01, \n",
    "                          'longitude': longitude - 0.01},\n",
    "            'upperRight': {'latitude': latitude + 0.01, \n",
    "                           'longitude': longitude + 0.01}\n",
    "        }\n",
    "        \n",
    "        # Define temperal filter\n",
    "        temporalFilters = {'startDate': date, \n",
    "                           'endDate': date}\n",
    "        \n",
    "        # Search scenes\n",
    "        scenes = m2m.searchScenes(datasetName='landsat_etm_c2_l2', \n",
    "                                  spatialFilter=spatialFilters, \n",
    "                                  temporalFilter=temporalFilters, \n",
    "                                  maxCC=15,\n",
    "                                  maxResults=100)\n",
    "        \n",
    "        if scenes:\n",
    "            entityId = scenes['results'][0]['entityId']\n",
    "            # Get download options\n",
    "            downloadOptions = m2m.downloadOptions('landsat_etm_c2_l2', entityId)\n",
    "            # Download scenes\n",
    "            downloadMetadata = m2m.retrieveScenes('landsat_etm_c2_l2', scenes)\n",
    "            print(f'Downloaded data for dam {damid} on {date}')\n",
    "        else:\n",
    "            print(f'No scenes found for dam {damid} on {date}')\n"
   ]
  },
  {
   "cell_type": "code",
   "execution_count": null,
   "id": "d17fbaed-ba2b-49c1-9b0a-82c95014f3b1",
   "metadata": {
    "tags": []
   },
   "outputs": [],
   "source": [
    "# Download the data\n",
    "download_dam_images(df_head)"
   ]
  },
  {
   "cell_type": "code",
   "execution_count": null,
   "id": "c5b69360-7c1d-4810-9e5c-377451026c8f",
   "metadata": {},
   "outputs": [],
   "source": []
  }
 ],
 "metadata": {
  "kernelspec": {
   "display_name": "Python 3 (ipykernel)",
   "language": "python",
   "name": "python3"
  },
  "language_info": {
   "codemirror_mode": {
    "name": "ipython",
    "version": 3
   },
   "file_extension": ".py",
   "mimetype": "text/x-python",
   "name": "python",
   "nbconvert_exporter": "python",
   "pygments_lexer": "ipython3",
   "version": "3.11.4"
  }
 },
 "nbformat": 4,
 "nbformat_minor": 5
}
