{
 "cells": [
  {
   "cell_type": "markdown",
   "metadata": {
    "id": "C92nlyBv-JGR"
   },
   "source": [
    "#**README**\n",
    "\n",
    "This file serves as the preparation for the beaver dam analysis. It 1) generates random latitude-lontitude value pairs along with datetime and export it to csv to imitate the real data 2) it expands the original data for a] spatial expansion by creating a 7 by 7 (or 210m by 210m) grid centered at given coordinates and b] temporal expansion by spanning 6 months before and 6 months after the original date.\n",
    "\n",
    "Notice that this Python script is prepared in Google Colab on MY mac - the file path and file management may differ."
   ]
  },
  {
   "cell_type": "markdown",
   "metadata": {
    "id": "9UZUp2Xg7p-q"
   },
   "source": [
    "#**Peaparation**"
   ]
  },
  {
   "cell_type": "code",
   "execution_count": null,
   "metadata": {
    "id": "8zRWjpHW7Zn3"
   },
   "outputs": [],
   "source": [
    "# import libraries\n",
    "import csv\n",
    "import random\n",
    "import numpy as np\n",
    "import pandas as pd\n",
    "from datetime import datetime, timedelta\n",
    "\n",
    "from google.colab import files\n",
    "from google.colab import drive"
   ]
  },
  {
   "cell_type": "code",
   "execution_count": null,
   "metadata": {
    "colab": {
     "base_uri": "https://localhost:8080/"
    },
    "id": "1MKwqahY7pFw",
    "outputId": "fea910af-d98b-4082-d6e0-e8f74e821849"
   },
   "outputs": [
    {
     "name": "stdout",
     "output_type": "stream",
     "text": [
      "Mounted at /content/drive\n"
     ]
    }
   ],
   "source": [
    "drive.mount('/content/drive')"
   ]
  },
  {
   "cell_type": "markdown",
   "metadata": {
    "id": "0F6piMJ6mAb-"
   },
   "source": [
    "#**Coordinate-Datetime Generator**\n",
    "\n",
    "This section we created [generate_csv] function to generate random coordinates pair and datetime - in the form of csv. This is to test the Google Earth Engine API as well as the data construction function in the next section.\n",
    "\n",
    "However, there is one thing need to be noticed: the precision of the corrdinates. Since we have not got the data yet, the precision of the coordinate data is something we need to look into - as it may largely affect the corresponding analysis based on remote sensing images due to their spatial resolution."
   ]
  },
  {
   "cell_type": "code",
   "execution_count": null,
   "metadata": {
    "colab": {
     "base_uri": "https://localhost:8080/",
     "height": 17
    },
    "id": "gk8mdRRYl6Ju",
    "outputId": "d2ef98c7-190f-41ef-8821-d454d0b0ee29"
   },
   "outputs": [
    {
     "data": {
      "application/javascript": [
       "\n",
       "    async function download(id, filename, size) {\n",
       "      if (!google.colab.kernel.accessAllowed) {\n",
       "        return;\n",
       "      }\n",
       "      const div = document.createElement('div');\n",
       "      const label = document.createElement('label');\n",
       "      label.textContent = `Downloading \"${filename}\": `;\n",
       "      div.appendChild(label);\n",
       "      const progress = document.createElement('progress');\n",
       "      progress.max = size;\n",
       "      div.appendChild(progress);\n",
       "      document.body.appendChild(div);\n",
       "\n",
       "      const buffers = [];\n",
       "      let downloaded = 0;\n",
       "\n",
       "      const channel = await google.colab.kernel.comms.open(id);\n",
       "      // Send a message to notify the kernel that we're ready.\n",
       "      channel.send({})\n",
       "\n",
       "      for await (const message of channel.messages) {\n",
       "        // Send a message to notify the kernel that we're ready.\n",
       "        channel.send({})\n",
       "        if (message.buffers) {\n",
       "          for (const buffer of message.buffers) {\n",
       "            buffers.push(buffer);\n",
       "            downloaded += buffer.byteLength;\n",
       "            progress.value = downloaded;\n",
       "          }\n",
       "        }\n",
       "      }\n",
       "      const blob = new Blob(buffers, {type: 'application/binary'});\n",
       "      const a = document.createElement('a');\n",
       "      a.href = window.URL.createObjectURL(blob);\n",
       "      a.download = filename;\n",
       "      div.appendChild(a);\n",
       "      a.click();\n",
       "      div.remove();\n",
       "    }\n",
       "  "
      ],
      "text/plain": [
       "<IPython.core.display.Javascript object>"
      ]
     },
     "metadata": {},
     "output_type": "display_data"
    },
    {
     "data": {
      "application/javascript": [
       "download(\"download_52c8c6dd-66bf-4005-8274-5629d11a8a4e\", \"random_us_coordinates.csv\", 1011)"
      ],
      "text/plain": [
       "<IPython.core.display.Javascript object>"
      ]
     },
     "metadata": {},
     "output_type": "display_data"
    }
   ],
   "source": [
    "def random_date(start, end):\n",
    "    \"\"\"Generate a random date between `start` and `end`.\"\"\"\n",
    "    delta = end - start\n",
    "    int_delta = delta.days\n",
    "    random_day = random.randrange(int_delta)\n",
    "    return start + timedelta(days=random_day)\n",
    "\n",
    "def generate_csv(filename, num_rows):\n",
    "    with open(filename, 'w', newline='') as csvfile:\n",
    "        csvwriter = csv.writer(csvfile)\n",
    "        csvwriter.writerow(['lat', 'lon', 'time'])  # Header\n",
    "\n",
    "        for _ in range(num_rows):\n",
    "            # Generate random coordinates within the U.S.\n",
    "            lat = random.uniform(25, 49)\n",
    "            lon = random.uniform(-125, -66)\n",
    "\n",
    "            date = random_date(datetime(2014, 1, 1), datetime(2020, 12, 31))\n",
    "            date_str = date.strftime('%Y-%m-%d')\n",
    "\n",
    "            # Writing the data\n",
    "            csvwriter.writerow([f\"{lat}\", f\"{lon}\", f\"{date_str}\"])\n",
    "\n",
    "# Usage\n",
    "filename = 'random_us_coordinates.csv'\n",
    "generate_csv(filename, 20)  # Generate a file with 20 rows\n",
    "\n",
    "files.download(filename)"
   ]
  },
  {
   "cell_type": "markdown",
   "metadata": {
    "id": "RsdyQ-2essZL"
   },
   "source": [
    "#**Data Expansion Constructor**\n",
    "\n",
    "In this section, we will expand the data in two ways:\n",
    "\n",
    "1. **Spatial Expansion**: For each geographic coordinate, create a grid centered on the original coordinate. This grid will be 7x7, where each cell represents a 30m x 30m area, making the total area covered by the grid 210m x 210m. This means we'll generate coordinates for the center of each of these cells.\n",
    "\n",
    "2. **Temporal Expansion**: For the date associated with each location, you want to generate additional dates spanning 6 months before and 6 months after the original date, presumably at monthly intervals."
   ]
  },
  {
   "cell_type": "code",
   "execution_count": null,
   "metadata": {
    "id": "fL6bo_xcm1qP"
   },
   "outputs": [],
   "source": [
    "#@title Expand Data\n",
    "\n",
    "# Function to convert meters to latitude/longitude deltas\n",
    "def meters_to_latlon(lat, meters_lat=30, meters_lon=30):\n",
    "    meters_per_degree_lat = 111000  # Roughly constant\n",
    "    meters_per_degree_lon = 111000 * np.cos(np.radians(lat))  # Varies with latitude\n",
    "    delta_lat = meters_lat / meters_per_degree_lat\n",
    "    delta_lon = meters_lon / meters_per_degree_lon\n",
    "    return delta_lat, delta_lon\n",
    "\n",
    "# Function to generate a 13x13 grid of coordinates around a central point\n",
    "def generate_grid(lat, lon):\n",
    "    delta_lat, delta_lon = meters_to_latlon(lat)\n",
    "    grid_coords = []\n",
    "    for i in range(-6, 7):  # Generates indices -3 to 3 for 7 slots\n",
    "        for j in range(-6, 7):  # Same as above, for both lat and lon\n",
    "            grid_coords.append((lat + i * delta_lat, lon + j * delta_lon))\n",
    "    return grid_coords\n",
    "\n",
    "# Function to generate dates 6 months before and after a given date\n",
    "def expand_dates(original_date):\n",
    "    original_date = datetime.strptime(original_date, '%Y-%m-%d')\n",
    "    dates = [original_date + timedelta(days=30*i) for i in range(-6, 7)]  # From -6 to 6 months\n",
    "    return [date.strftime('%Y-%m-%d') for date in dates]\n",
    "\n",
    "# Load the CSV file into a DataFrame\n",
    "df = pd.read_csv('/content/drive/My Drive/COLAB/BEAVER/random_us_coordinates.csv')\n",
    "\n",
    "# Expand the dataset\n",
    "expanded_data = []\n",
    "for index, row in df.iterrows():\n",
    "    lat, lon, original_date = row['lat'], row['lon'], row['time']\n",
    "    grid_coords = generate_grid(lat, lon)  # Spatial expansion\n",
    "    expanded_dates = expand_dates(original_date)  # Temporal expansion\n",
    "\n",
    "    # Combine spatial and temporal expansions\n",
    "    for date in expanded_dates:\n",
    "        for (grid_lat, grid_lon) in grid_coords:\n",
    "            expanded_data.append([grid_lat, grid_lon, date])\n",
    "\n",
    "# Convert the expanded data to a DataFrame\n",
    "expanded_df = pd.DataFrame(expanded_data, columns=['lat', 'lon', 'time'])\n",
    "\n",
    "# Display the size and the first few rows of the expanded DataFrame\n",
    "print(expanded_df.shape)\n",
    "print(expanded_df.head())\n",
    "\n",
    "# Usage\n",
    "# Specify the filename for the exported CSV\n",
    "export_filename = 'expanded_dataset.csv'\n",
    "\n",
    "# Export the DataFrame to a CSV file\n",
    "expanded_df.to_csv(export_filename, index=False)\n",
    "\n",
    "files.download(export_filename)"
   ]
  },
  {
   "cell_type": "markdown",
   "metadata": {
    "id": "IsJM_wlLGKkQ"
   },
   "source": [
    "#**Google Earth Engine**"
   ]
  },
  {
   "cell_type": "code",
   "execution_count": null,
   "metadata": {
    "colab": {
     "base_uri": "https://localhost:8080/"
    },
    "id": "5J4D5DF29zAz",
    "outputId": "ada7a6b7-4fdb-4476-86dd-677c1f991890"
   },
   "outputs": [
    {
     "name": "stdout",
     "output_type": "stream",
     "text": [
      "Requirement already satisfied: earthengine-api in /usr/local/lib/python3.10/dist-packages (0.1.390)\n",
      "Requirement already satisfied: google-cloud-storage in /usr/local/lib/python3.10/dist-packages (from earthengine-api) (2.8.0)\n",
      "Requirement already satisfied: google-api-python-client>=1.12.1 in /usr/local/lib/python3.10/dist-packages (from earthengine-api) (2.84.0)\n",
      "Requirement already satisfied: google-auth>=1.4.1 in /usr/local/lib/python3.10/dist-packages (from earthengine-api) (2.27.0)\n",
      "Requirement already satisfied: google-auth-httplib2>=0.0.3 in /usr/local/lib/python3.10/dist-packages (from earthengine-api) (0.1.1)\n",
      "Requirement already satisfied: httplib2<1dev,>=0.9.2 in /usr/local/lib/python3.10/dist-packages (from earthengine-api) (0.22.0)\n",
      "Requirement already satisfied: requests in /usr/local/lib/python3.10/dist-packages (from earthengine-api) (2.31.0)\n",
      "Requirement already satisfied: google-api-core!=2.0.*,!=2.1.*,!=2.2.*,!=2.3.0,<3.0.0dev,>=1.31.5 in /usr/local/lib/python3.10/dist-packages (from google-api-python-client>=1.12.1->earthengine-api) (2.11.1)\n",
      "Requirement already satisfied: uritemplate<5,>=3.0.1 in /usr/local/lib/python3.10/dist-packages (from google-api-python-client>=1.12.1->earthengine-api) (4.1.1)\n",
      "Requirement already satisfied: cachetools<6.0,>=2.0.0 in /usr/local/lib/python3.10/dist-packages (from google-auth>=1.4.1->earthengine-api) (5.3.2)\n",
      "Requirement already satisfied: pyasn1-modules>=0.2.1 in /usr/local/lib/python3.10/dist-packages (from google-auth>=1.4.1->earthengine-api) (0.3.0)\n",
      "Requirement already satisfied: rsa<5,>=3.1.4 in /usr/local/lib/python3.10/dist-packages (from google-auth>=1.4.1->earthengine-api) (4.9)\n",
      "Requirement already satisfied: pyparsing!=3.0.0,!=3.0.1,!=3.0.2,!=3.0.3,<4,>=2.4.2 in /usr/local/lib/python3.10/dist-packages (from httplib2<1dev,>=0.9.2->earthengine-api) (3.1.1)\n",
      "Requirement already satisfied: google-cloud-core<3.0dev,>=2.3.0 in /usr/local/lib/python3.10/dist-packages (from google-cloud-storage->earthengine-api) (2.3.3)\n",
      "Requirement already satisfied: google-resumable-media>=2.3.2 in /usr/local/lib/python3.10/dist-packages (from google-cloud-storage->earthengine-api) (2.7.0)\n",
      "Requirement already satisfied: charset-normalizer<4,>=2 in /usr/local/lib/python3.10/dist-packages (from requests->earthengine-api) (3.3.2)\n",
      "Requirement already satisfied: idna<4,>=2.5 in /usr/local/lib/python3.10/dist-packages (from requests->earthengine-api) (3.6)\n",
      "Requirement already satisfied: urllib3<3,>=1.21.1 in /usr/local/lib/python3.10/dist-packages (from requests->earthengine-api) (2.0.7)\n",
      "Requirement already satisfied: certifi>=2017.4.17 in /usr/local/lib/python3.10/dist-packages (from requests->earthengine-api) (2024.2.2)\n",
      "Requirement already satisfied: googleapis-common-protos<2.0.dev0,>=1.56.2 in /usr/local/lib/python3.10/dist-packages (from google-api-core!=2.0.*,!=2.1.*,!=2.2.*,!=2.3.0,<3.0.0dev,>=1.31.5->google-api-python-client>=1.12.1->earthengine-api) (1.62.0)\n",
      "Requirement already satisfied: protobuf!=3.20.0,!=3.20.1,!=4.21.0,!=4.21.1,!=4.21.2,!=4.21.3,!=4.21.4,!=4.21.5,<5.0.0.dev0,>=3.19.5 in /usr/local/lib/python3.10/dist-packages (from google-api-core!=2.0.*,!=2.1.*,!=2.2.*,!=2.3.0,<3.0.0dev,>=1.31.5->google-api-python-client>=1.12.1->earthengine-api) (3.20.3)\n",
      "Requirement already satisfied: google-crc32c<2.0dev,>=1.0 in /usr/local/lib/python3.10/dist-packages (from google-resumable-media>=2.3.2->google-cloud-storage->earthengine-api) (1.5.0)\n",
      "Requirement already satisfied: pyasn1<0.6.0,>=0.4.6 in /usr/local/lib/python3.10/dist-packages (from pyasn1-modules>=0.2.1->google-auth>=1.4.1->earthengine-api) (0.5.1)\n"
     ]
    }
   ],
   "source": [
    "!pip install earthengine-api"
   ]
  },
  {
   "cell_type": "code",
   "execution_count": null,
   "metadata": {
    "id": "QltdHv8mGP7I"
   },
   "outputs": [],
   "source": [
    "import ee\n",
    "ee.Authenticate()"
   ]
  },
  {
   "cell_type": "code",
   "execution_count": null,
   "metadata": {
    "id": "Uhzg7-QwGWWu"
   },
   "outputs": [],
   "source": [
    "ee.Initialize(project='project-beaver-415818')"
   ]
  },
  {
   "cell_type": "code",
   "execution_count": null,
   "metadata": {
    "colab": {
     "base_uri": "https://localhost:8080/"
    },
    "id": "3Ze9ntXfG7jm",
    "outputId": "a8811d95-7f0b-4d94-fb0f-1b4c7c976117"
   },
   "outputs": [
    {
     "name": "stdout",
     "output_type": "stream",
     "text": [
      "NDVI Value: 0.5170246362686157\n"
     ]
    }
   ],
   "source": [
    "#@title Tempt\n",
    "\n",
    "# Define the location (for example, Central Park, New York City).\n",
    "point = ee.Geometry.Point([-73.965355, 40.782865])\n",
    "\n",
    "# Define the date range of interest (e.g., June 1, 2020).\n",
    "start_date = '2020-05-15'\n",
    "end_date = '2020-06-14'\n",
    "\n",
    "# Load the Landsat 8 Surface Reflectance imagery for the specified time range.\n",
    "# Then, filter the collection to the point of interest and date range.\n",
    "l8 = ee.ImageCollection('LANDSAT/LC08/C01/T1_SR').filterBounds(point).filterDate(start_date, end_date)\n",
    "\n",
    "# Function to calculate NDVI using NIR (B5) and Red (B4) bands.\n",
    "def addNDVI(image):\n",
    "    ndvi = image.normalizedDifference(['B5', 'B4']).rename('NDVI')\n",
    "    return image.addBands(ndvi)\n",
    "\n",
    "# Map the function over the image collection.\n",
    "ndviCollection = l8.map(addNDVI)\n",
    "\n",
    "# Reduce the collection to a single image by taking the median.\n",
    "ndviMedian = ndviCollection.median()\n",
    "\n",
    "# Select the NDVI band.\n",
    "ndviBand = ndviMedian.select('NDVI')\n",
    "\n",
    "# Get the NDVI value for the specified point.\n",
    "ndviValue = ndviBand.reduceRegion(ee.Reducer.mean(), point, 30).get('NDVI').getInfo()\n",
    "\n",
    "print(f\"NDVI Value: {ndviValue}\")"
   ]
  },
  {
   "cell_type": "code",
   "execution_count": null,
   "metadata": {
    "id": "p6dEZsVVqUJ2"
   },
   "outputs": [],
   "source": [
    "# Assuming your DataFrame is loaded correctly\n",
    "data = pd.read_csv('/content/drive/My Drive/COLAB/BEAVER/random_us_coordinates_20.csv')\n",
    "\n",
    "def fetch_modis_ndvi(lat, lon, date_str):\n",
    "    point = ee.Geometry.Point([lon, lat])\n",
    "    start_date = pd.to_datetime(date_str) - pd.Timedelta(days=15)\n",
    "    end_date = pd.to_datetime(date_str) + pd.Timedelta(days=15)\n",
    "\n",
    "    # Load MODIS NDVI data\n",
    "    modis_ndvi = ee.ImageCollection('MODIS/MYD09GA_006_NDVI')\\\n",
    "                  .filterBounds(point)\\\n",
    "                  .filterDate(start_date.strftime('%Y-%m-%d'), end_date.strftime('%Y-%m-%d'))\\\n",
    "                  .select('NDVI')  # Select the NDVI band\n",
    "\n",
    "    # Reduce the collection to a single image by taking the median of the NDVI values\n",
    "    ndviMedian = modis_ndvi.median()\n",
    "\n",
    "    # Extract NDVI value for the specified point\n",
    "    ndvi_value = ndviMedian.reduceRegion(ee.Reducer.mean(), point, 30).get('NDVI').getInfo()\n",
    "\n",
    "    return ndvi_value if ndvi_value is not None else None\n",
    "\n",
    "# Apply the 'fetch_modis_ndvi' function to each row in the DataFrame\n",
    "data['NDVI'] = data.apply(lambda row: fetch_modis_ndvi(row['lat'], row['lon'], row['time']), axis=1)\n",
    "\n",
    "data.to_csv(\"test_ndvi.csv\", index=False)\n",
    "files"
   ]
  },
  {
   "cell_type": "code",
   "execution_count": null,
   "metadata": {
    "colab": {
     "base_uri": "https://localhost:8080/",
     "height": 17
    },
    "id": "eOnz-7BO59AO",
    "outputId": "d7c4cd5c-5533-45d2-dd79-593708cce01f"
   },
   "outputs": [
    {
     "data": {
      "application/javascript": [
       "\n",
       "    async function download(id, filename, size) {\n",
       "      if (!google.colab.kernel.accessAllowed) {\n",
       "        return;\n",
       "      }\n",
       "      const div = document.createElement('div');\n",
       "      const label = document.createElement('label');\n",
       "      label.textContent = `Downloading \"${filename}\": `;\n",
       "      div.appendChild(label);\n",
       "      const progress = document.createElement('progress');\n",
       "      progress.max = size;\n",
       "      div.appendChild(progress);\n",
       "      document.body.appendChild(div);\n",
       "\n",
       "      const buffers = [];\n",
       "      let downloaded = 0;\n",
       "\n",
       "      const channel = await google.colab.kernel.comms.open(id);\n",
       "      // Send a message to notify the kernel that we're ready.\n",
       "      channel.send({})\n",
       "\n",
       "      for await (const message of channel.messages) {\n",
       "        // Send a message to notify the kernel that we're ready.\n",
       "        channel.send({})\n",
       "        if (message.buffers) {\n",
       "          for (const buffer of message.buffers) {\n",
       "            buffers.push(buffer);\n",
       "            downloaded += buffer.byteLength;\n",
       "            progress.value = downloaded;\n",
       "          }\n",
       "        }\n",
       "      }\n",
       "      const blob = new Blob(buffers, {type: 'application/binary'});\n",
       "      const a = document.createElement('a');\n",
       "      a.href = window.URL.createObjectURL(blob);\n",
       "      a.download = filename;\n",
       "      div.appendChild(a);\n",
       "      a.click();\n",
       "      div.remove();\n",
       "    }\n",
       "  "
      ],
      "text/plain": [
       "<IPython.core.display.Javascript object>"
      ]
     },
     "metadata": {},
     "output_type": "display_data"
    },
    {
     "data": {
      "application/javascript": [
       "download(\"download_6bd19b11-9616-4bf5-a8c4-c0dea327300d\", \"test_ndvi.csv\", 1393)"
      ],
      "text/plain": [
       "<IPython.core.display.Javascript object>"
      ]
     },
     "metadata": {},
     "output_type": "display_data"
    }
   ],
   "source": [
    "data.head()\n",
    "data.to_csv(\"test_ndvi.csv\", index=False)\n",
    "files.download(\"test_ndvi.csv\")"
   ]
  },
  {
   "cell_type": "code",
   "execution_count": null,
   "metadata": {
    "id": "p4BulFTazapq"
   },
   "outputs": [],
   "source": []
  }
 ],
 "metadata": {
  "colab": {
   "provenance": []
  },
  "kernelspec": {
   "display_name": "Python 3 (ipykernel)",
   "language": "python",
   "name": "python3"
  },
  "language_info": {
   "codemirror_mode": {
    "name": "ipython",
    "version": 3
   },
   "file_extension": ".py",
   "mimetype": "text/x-python",
   "name": "python",
   "nbconvert_exporter": "python",
   "pygments_lexer": "ipython3",
   "version": "3.11.4"
  }
 },
 "nbformat": 4,
 "nbformat_minor": 4
}
