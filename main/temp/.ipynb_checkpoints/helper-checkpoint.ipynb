{
 "cells": [
  {
   "cell_type": "code",
   "execution_count": 1,
   "id": "c18c0bba-d5bf-4d4e-8ded-3ad46a37c5a8",
   "metadata": {},
   "outputs": [],
   "source": [
    "import numpy as np\n",
    "import pandas as pd"
   ]
  },
  {
   "cell_type": "code",
   "execution_count": 2,
   "id": "8cdb161f-1dcb-475c-825d-9f50a1562991",
   "metadata": {},
   "outputs": [
    {
     "data": {
      "text/html": [
       "<div>\n",
       "<style scoped>\n",
       "    .dataframe tbody tr th:only-of-type {\n",
       "        vertical-align: middle;\n",
       "    }\n",
       "\n",
       "    .dataframe tbody tr th {\n",
       "        vertical-align: top;\n",
       "    }\n",
       "\n",
       "    .dataframe thead th {\n",
       "        text-align: right;\n",
       "    }\n",
       "</style>\n",
       "<table border=\"1\" class=\"dataframe\">\n",
       "  <thead>\n",
       "    <tr style=\"text-align: right;\">\n",
       "      <th></th>\n",
       "      <th>Longitude</th>\n",
       "      <th>Latitude</th>\n",
       "      <th>Name</th>\n",
       "    </tr>\n",
       "  </thead>\n",
       "  <tbody>\n",
       "    <tr>\n",
       "      <th>0</th>\n",
       "      <td>-106.615059</td>\n",
       "      <td>40.967817</td>\n",
       "      <td>Colo_Dam_105</td>\n",
       "    </tr>\n",
       "    <tr>\n",
       "      <th>1</th>\n",
       "      <td>-106.615024</td>\n",
       "      <td>40.967862</td>\n",
       "      <td>Colo_Dam_105</td>\n",
       "    </tr>\n",
       "    <tr>\n",
       "      <th>2</th>\n",
       "      <td>-106.615001</td>\n",
       "      <td>40.967879</td>\n",
       "      <td>Colo_Dam_105</td>\n",
       "    </tr>\n",
       "    <tr>\n",
       "      <th>3</th>\n",
       "      <td>-106.614935</td>\n",
       "      <td>40.967897</td>\n",
       "      <td>Colo_Dam_105</td>\n",
       "    </tr>\n",
       "    <tr>\n",
       "      <th>4</th>\n",
       "      <td>-106.614881</td>\n",
       "      <td>40.967906</td>\n",
       "      <td>Colo_Dam_105</td>\n",
       "    </tr>\n",
       "    <tr>\n",
       "      <th>5</th>\n",
       "      <td>-106.614837</td>\n",
       "      <td>40.967888</td>\n",
       "      <td>Colo_Dam_105</td>\n",
       "    </tr>\n",
       "    <tr>\n",
       "      <th>6</th>\n",
       "      <td>-106.614796</td>\n",
       "      <td>40.967866</td>\n",
       "      <td>Colo_Dam_105</td>\n",
       "    </tr>\n",
       "  </tbody>\n",
       "</table>\n",
       "</div>"
      ],
      "text/plain": [
       "    Longitude   Latitude          Name\n",
       "0 -106.615059  40.967817  Colo_Dam_105\n",
       "1 -106.615024  40.967862  Colo_Dam_105\n",
       "2 -106.615001  40.967879  Colo_Dam_105\n",
       "3 -106.614935  40.967897  Colo_Dam_105\n",
       "4 -106.614881  40.967906  Colo_Dam_105\n",
       "5 -106.614837  40.967888  Colo_Dam_105\n",
       "6 -106.614796  40.967866  Colo_Dam_105"
      ]
     },
     "execution_count": 2,
     "metadata": {},
     "output_type": "execute_result"
    }
   ],
   "source": [
    "df = pd.read_csv(\"data/df_dam.csv\")\n",
    "\n",
    "idam_full = df[df['Name']=='Colo_Dam_105']\n",
    "idam = idam_full[['Longitude', 'Latitude', 'Name']]\n",
    "idam"
   ]
  },
  {
   "cell_type": "code",
   "execution_count": 3,
   "id": "bf87acfe-6489-447d-ac8c-323641a26a03",
   "metadata": {},
   "outputs": [
    {
     "name": "stdout",
     "output_type": "stream",
     "text": [
      "(40.967873717877744, -106.61493333164904)\n"
     ]
    }
   ],
   "source": [
    "def get_centroid(dam):\n",
    "    x = np.mean(dam[\"Latitude\"])\n",
    "    y = np.mean(dam[\"Longitude\"])\n",
    "    return x, y\n",
    "\n",
    "\n",
    "# Sample use:\n",
    "sample_centroid = get_centroid(idam)\n",
    "print(sample_centroid)"
   ]
  },
  {
   "cell_type": "code",
   "execution_count": 4,
   "id": "d831cf32-4d6d-42c5-8ee4-6dec1fb4a1a2",
   "metadata": {},
   "outputs": [
    {
     "name": "stdout",
     "output_type": "stream",
     "text": [
      "Requirement already satisfied: geopy in /Applications/anaconda3/envs/geo_env/lib/python3.8/site-packages (2.4.1)\n",
      "Requirement already satisfied: geographiclib<3,>=1.52 in /Applications/anaconda3/envs/geo_env/lib/python3.8/site-packages (from geopy) (2.0)\n",
      "Note: you may need to restart the kernel to use updated packages.\n"
     ]
    }
   ],
   "source": [
    "pip install geopy"
   ]
  },
  {
   "cell_type": "code",
   "execution_count": 5,
   "id": "4814681d-78d3-495f-874e-4fec9bb0d9d6",
   "metadata": {},
   "outputs": [],
   "source": [
    "from geopy.distance import geodesic\n",
    "from shapely import LineString\n",
    "from shapely import Point"
   ]
  },
  {
   "cell_type": "code",
   "execution_count": 6,
   "id": "bdfd1904-c926-423e-8fc3-f18a7cd7127d",
   "metadata": {},
   "outputs": [
    {
     "name": "stdout",
     "output_type": "stream",
     "text": [
      "Total length (???): 0.00030306294678934207\n",
      "Total length (m): 27.532708322823115\n"
     ]
    }
   ],
   "source": [
    "coordinates_list = idam[['Latitude', 'Longitude']].values.tolist()\n",
    "\n",
    "line = LineString(coordinates_list)\n",
    "print(\"Total length (???):\",line.length)\n",
    "\n",
    "total_length = 0\n",
    "for i in range(len(coordinates_list) - 1):\n",
    "    total_length += geodesic(coordinates_list[i], coordinates_list[i+1]).meters\n",
    "\n",
    "print(\"Total length (m):\", total_length)"
   ]
  },
  {
   "cell_type": "code",
   "execution_count": 7,
   "id": "e50b4919-e045-4009-8ddb-116787193990",
   "metadata": {},
   "outputs": [
    {
     "name": "stdout",
     "output_type": "stream",
     "text": [
      "Midpoint of the LineString is: 40.96789642451913 -106.61493784152574\n",
      "Centroid of the LineString is: 40.967873717877744 -106.61493333164904\n"
     ]
    }
   ],
   "source": [
    "def find_midpoint_of_linestring(line):\n",
    "    total_length = line.length\n",
    "    \n",
    "    half_length = total_length / 2\n",
    "    \n",
    "    midpoint = line.interpolate(half_length)\n",
    "    \n",
    "    return midpoint\n",
    "\n",
    "midpoint = find_midpoint_of_linestring(line)\n",
    "\n",
    "print(\"Midpoint of the LineString is:\", midpoint.x, midpoint.y)\n",
    "\n",
    "centroid = Point(sample_centroid)\n",
    "print(\"Centroid of the LineString is:\", centroid.x, centroid.y)"
   ]
  },
  {
   "cell_type": "code",
   "execution_count": 8,
   "id": "116779a7-1dfc-446a-a743-0d3f9db5388a",
   "metadata": {},
   "outputs": [
    {
     "name": "stdout",
     "output_type": "stream",
     "text": [
      "projection:  40.96789603981515 -106.61493928416567\n",
      "40.967873717877744 -106.61493333164904\n"
     ]
    }
   ],
   "source": [
    "from shapely.ops import nearest_points\n",
    "\n",
    "projection, temp = nearest_points(line, centroid)\n",
    "\n",
    "\n",
    "print(\"projection: \", projection.x, projection.y)\n",
    "\n",
    "print(temp.x, temp.y)"
   ]
  },
  {
   "cell_type": "code",
   "execution_count": 9,
   "id": "cd5063ae-d316-4ad2-a0b1-170a3faeb999",
   "metadata": {},
   "outputs": [
    {
     "data": {
      "image/png": "[encoded data removed]",
      "text/plain": [
       "<Figure size 1000x800 with 1 Axes>"
      ]
     },
     "metadata": {},
     "output_type": "display_data"
    }
   ],
   "source": [
    "import matplotlib.pyplot as plt\n",
    "\n",
    "fig, ax = plt.subplots(figsize=(10, 8))\n",
    "\n",
    "x, y = line.xy\n",
    "ax.plot(x, y, 'k-', label='Polyline')\n",
    "ax.plot(midpoint.x, midpoint.y, 'ro', label='Midpoint')\n",
    "ax.plot(centroid.x, centroid.y, 'bo', label='Centroid')\n",
    "ax.plot(projection.x, projection.y, 'go', label='Projection')\n",
    "ax.legend()\n",
    "ax.set_title('Polyline with Midpoint')\n",
    "ax.grid(True)\n",
    "\n",
    "ax.axis('equal')\n",
    "\n",
    "plt.show()"
   ]
  },
  {
   "cell_type": "code",
   "execution_count": null,
   "id": "829389ae-1e94-427f-8a37-8a442e52a1a6",
   "metadata": {},
   "outputs": [],
   "source": []
  }
 ],
 "metadata": {
  "kernelspec": {
   "display_name": "Python 3 (ipykernel)",
   "language": "python",
   "name": "python3"
  },
  "language_info": {
   "codemirror_mode": {
    "name": "ipython",
    "version": 3
   },
   "file_extension": ".py",
   "mimetype": "text/x-python",
   "name": "python",
   "nbconvert_exporter": "python",
   "pygments_lexer": "ipython3",
   "version": "3.8.18"
  }
 },
 "nbformat": 4,
 "nbformat_minor": 5
}
