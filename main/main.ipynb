{
 "cells": [
  {
   "cell_type": "code",
   "execution_count": 1,
   "id": "263060c7-c4bb-4379-b74e-0b286c2b7849",
   "metadata": {},
   "outputs": [],
   "source": [
    "%%capture\n",
    "\n",
    "# import libraries\n",
    "import csv\n",
    "import random\n",
    "import numpy as np\n",
    "import pandas as pd\n",
    "from datetime import datetime, timedelta\n",
    "from geopy.distance import geodesic\n",
    "from shapely import LineString\n",
    "from helper import find_midpoint, compute_midpoints\n",
    "\n",
    "# load data into dataframes\n",
    "df_dam = pd.read_csv(\"data/df_dam.csv\")\n",
    "df_neg = pd.read_csv(\"data/df_neg.csv\")"
   ]
  },
  {
   "cell_type": "code",
   "execution_count": 8,
   "id": "fe812df1-d017-4551-a61f-a656b37bceaa",
   "metadata": {},
   "outputs": [
    {
     "name": "stdout",
     "output_type": "stream",
     "text": [
      "<class 'pandas.core.frame.DataFrame'>\n",
      "RangeIndex: 322 entries, 0 to 321\n",
      "Data columns (total 3 columns):\n",
      " #   Column     Non-Null Count  Dtype  \n",
      "---  ------     --------------  -----  \n",
      " 0   name       322 non-null    object \n",
      " 1   longitude  322 non-null    float64\n",
      " 2   latitude   322 non-null    float64\n",
      "dtypes: float64(2), object(1)\n",
      "memory usage: 7.7+ KB\n"
     ]
    }
   ],
   "source": [
    "df_points = compute_midpoints(df_dam)\n",
    "df_points.info()"
   ]
  },
  {
   "cell_type": "code",
   "execution_count": 9,
   "id": "f119cfb5-8539-4cf1-9e0a-3414ec6e5882",
   "metadata": {},
   "outputs": [
    {
     "name": "stdout",
     "output_type": "stream",
     "text": [
      "<class 'pandas.core.frame.DataFrame'>\n",
      "RangeIndex: 320 entries, 0 to 319\n",
      "Data columns (total 58 columns):\n",
      " #   Column                         Non-Null Count  Dtype  \n",
      "---  ------                         --------------  -----  \n",
      " 0   Landsat Product Identifier L2  320 non-null    object \n",
      " 1   Landsat Product Identifier L1  320 non-null    object \n",
      " 2   Landsat Scene Identifier       320 non-null    object \n",
      " 3   Date Acquired                  320 non-null    object \n",
      " 4   Collection Category            320 non-null    object \n",
      " 5   Collection Number              320 non-null    int64  \n",
      " 6   WRS Path                       320 non-null    int64  \n",
      " 7   WRS Row                        320 non-null    int64  \n",
      " 8   Target WRS Path                320 non-null    int64  \n",
      " 9   Target WRS Row                 320 non-null    int64  \n",
      " 10  Nadir/Off Nadir                320 non-null    object \n",
      " 11  Roll Angle                     320 non-null    float64\n",
      " 12  Date Product Generated L2      320 non-null    object \n",
      " 13  Date Product Generated L1      320 non-null    object \n",
      " 14  Start Time                     320 non-null    object \n",
      " 15  Stop Time                      320 non-null    object \n",
      " 16  Station Identifier             320 non-null    object \n",
      " 17  Day/Night Indicator            320 non-null    object \n",
      " 18  Land Cloud Cover               320 non-null    float64\n",
      " 19  Scene Cloud Cover L1           320 non-null    float64\n",
      " 20  Ground Control Points Model    320 non-null    int64  \n",
      " 21  Ground Control Points Version  320 non-null    int64  \n",
      " 22  Geometric RMSE Model           320 non-null    float64\n",
      " 23  Geometric RMSE Model X         320 non-null    float64\n",
      " 24  Geometric RMSE Model Y         320 non-null    float64\n",
      " 25  Processing Software Version    320 non-null    object \n",
      " 26  Sun Elevation L0RA             320 non-null    float64\n",
      " 27  Sun Azimuth L0RA               320 non-null    float64\n",
      " 28  TIRS SSM Model                 258 non-null    object \n",
      " 29  Data Type L2                   320 non-null    object \n",
      " 30  Sensor Identifier              320 non-null    object \n",
      " 31  Satellite                      320 non-null    int64  \n",
      " 32  Product Map Projection L1      320 non-null    object \n",
      " 33  UTM Zone                       320 non-null    int64  \n",
      " 34  Datum                          320 non-null    object \n",
      " 35  Ellipsoid                      320 non-null    object \n",
      " 36  Scene Center Lat DMS           320 non-null    object \n",
      " 37  Scene Center Long DMS          320 non-null    object \n",
      " 38  Corner Upper Left Lat DMS      320 non-null    object \n",
      " 39  Corner Upper Left Long DMS     320 non-null    object \n",
      " 40  Corner Upper Right Lat DMS     320 non-null    object \n",
      " 41  Corner Upper Right Long DMS    320 non-null    object \n",
      " 42  Corner Lower Left Lat DMS      320 non-null    object \n",
      " 43  Corner Lower Left Long DMS     320 non-null    object \n",
      " 44  Corner Lower Right Lat DMS     320 non-null    object \n",
      " 45  Corner Lower Right Long DMS    320 non-null    object \n",
      " 46  Scene Center Latitude          320 non-null    float64\n",
      " 47  Scene Center Longitude         320 non-null    float64\n",
      " 48  Corner Upper Left Latitude     320 non-null    float64\n",
      " 49  Corner Upper Left Longitude    320 non-null    float64\n",
      " 50  Corner Upper Right Latitude    320 non-null    float64\n",
      " 51  Corner Upper Right Longitude   320 non-null    float64\n",
      " 52  Corner Lower Left Latitude     320 non-null    float64\n",
      " 53  Corner Lower Left Longitude    320 non-null    float64\n",
      " 54  Corner Lower Right Latitude    320 non-null    float64\n",
      " 55  Corner Lower Right Longitude   320 non-null    float64\n",
      " 56  Display ID                     320 non-null    object \n",
      " 57  Entity ID                      320 non-null    object \n",
      "dtypes: float64(18), int64(9), object(31)\n",
      "memory usage: 145.1+ KB\n"
     ]
    }
   ],
   "source": [
    "df_polygons = pd.read_csv(\"data/colorado_jan15.csv\", encoding='ISO-8859-1')\n",
    "df_polygons.info()"
   ]
  },
  {
   "cell_type": "code",
   "execution_count": 10,
   "id": "0ff7be98-3a19-44f9-a8fb-efee95bad472",
   "metadata": {},
   "outputs": [
    {
     "name": "stdout",
     "output_type": "stream",
     "text": [
      "             name   longitude   latitude  \\\n",
      "0      Colo_Dam_1 -106.596723  40.897068   \n",
      "1     Colo_Dam_10 -106.642626  40.906016   \n",
      "2    Colo_Dam_100 -106.615058  40.974412   \n",
      "3    Colo_Dam_101 -106.618137  40.971023   \n",
      "4    Colo_Dam_102 -106.614194  40.966955   \n",
      "..            ...         ...        ...   \n",
      "317   Colo_Dam_95 -106.615994  40.974218   \n",
      "318   Colo_Dam_96 -106.615736  40.974008   \n",
      "319   Colo_Dam_97 -106.616207  40.973742   \n",
      "320   Colo_Dam_98 -106.616327  40.974217   \n",
      "321   Colo_Dam_99 -106.615415  40.973989   \n",
      "\n",
      "                           Polygon Identifier  \n",
      "0    LC08_L2SP_035031_20160104_20200907_02_T1  \n",
      "1    LC08_L2SP_035031_20160104_20200907_02_T1  \n",
      "2    LC08_L2SP_035031_20160104_20200907_02_T1  \n",
      "3    LC08_L2SP_035031_20160104_20200907_02_T1  \n",
      "4    LC08_L2SP_035031_20160104_20200907_02_T1  \n",
      "..                                        ...  \n",
      "317  LC08_L2SP_035031_20160104_20200907_02_T1  \n",
      "318  LC08_L2SP_035031_20160104_20200907_02_T1  \n",
      "319  LC08_L2SP_035031_20160104_20200907_02_T1  \n",
      "320  LC08_L2SP_035031_20160104_20200907_02_T1  \n",
      "321  LC08_L2SP_035031_20160104_20200907_02_T1  \n",
      "\n",
      "[322 rows x 4 columns]\n"
     ]
    }
   ],
   "source": [
    "import pandas as pd\n",
    "from shapely.geometry import Point, Polygon\n",
    "\n",
    "polygons = []\n",
    "for index, row in df_polygons.iterrows():\n",
    "    polygon = Polygon([\n",
    "        (row['Corner Upper Left Longitude'], row['Corner Upper Left Latitude']),\n",
    "        (row['Corner Upper Right Longitude'], row['Corner Upper Right Latitude']),\n",
    "        (row['Corner Lower Right Longitude'], row['Corner Lower Right Latitude']),\n",
    "        (row['Corner Lower Left Longitude'], row['Corner Lower Left Latitude']),\n",
    "        (row['Corner Upper Left Longitude'], row['Corner Upper Left Latitude'])\n",
    "    ])\n",
    "    polygons.append((polygon, row['Landsat Product Identifier L2']))\n",
    "\n",
    "def find_polygon(point):\n",
    "    for polygon, identifier in polygons:\n",
    "        if polygon.contains(point):\n",
    "            return identifier\n",
    "    return None\n",
    "\n",
    "df_points['Polygon Identifier'] = df_points.apply(\n",
    "    lambda row: find_polygon(Point(row['longitude'], row['latitude'])), axis=1\n",
    ")\n",
    "\n",
    "print(df_points)"
   ]
  },
  {
   "cell_type": "code",
   "execution_count": 11,
   "id": "8633b7bc-cbf0-4f0c-92c2-40b659151100",
   "metadata": {},
   "outputs": [
    {
     "name": "stdout",
     "output_type": "stream",
     "text": [
      "<class 'pandas.core.frame.DataFrame'>\n",
      "RangeIndex: 4957 entries, 0 to 4956\n",
      "Data columns (total 15 columns):\n",
      " #   Column        Non-Null Count  Dtype  \n",
      "---  ------        --------------  -----  \n",
      " 0   Longitude     4957 non-null   float64\n",
      " 1   Latitude      4957 non-null   float64\n",
      " 2   Name          4957 non-null   object \n",
      " 3   system:index  4957 non-null   object \n",
      " 4   altitudeMo    0 non-null      float64\n",
      " 5   begin         0 non-null      float64\n",
      " 6   descriptio    0 non-null      float64\n",
      " 7   end           0 non-null      float64\n",
      " 8   extrude       4957 non-null   int64  \n",
      " 9   icon          0 non-null      float64\n",
      " 10  layer         4957 non-null   object \n",
      " 11  path          4957 non-null   object \n",
      " 12  tessellate    4957 non-null   int64  \n",
      " 13  timestamp     0 non-null      float64\n",
      " 14  visibility    4957 non-null   int64  \n",
      "dtypes: float64(8), int64(3), object(4)\n",
      "memory usage: 581.0+ KB\n"
     ]
    }
   ],
   "source": [
    "df_dam.info()"
   ]
  },
  {
   "cell_type": "code",
   "execution_count": 12,
   "id": "440b2390-f3dc-4013-83c1-2517dabf0e81",
   "metadata": {},
   "outputs": [
    {
     "name": "stdout",
     "output_type": "stream",
     "text": [
      "<class 'pandas.core.frame.DataFrame'>\n",
      "RangeIndex: 322 entries, 0 to 321\n",
      "Data columns (total 4 columns):\n",
      " #   Column              Non-Null Count  Dtype  \n",
      "---  ------              --------------  -----  \n",
      " 0   name                322 non-null    object \n",
      " 1   longitude           322 non-null    float64\n",
      " 2   latitude            322 non-null    float64\n",
      " 3   Polygon Identifier  322 non-null    object \n",
      "dtypes: float64(2), object(2)\n",
      "memory usage: 10.2+ KB\n"
     ]
    }
   ],
   "source": [
    "df_points.info()"
   ]
  },
  {
   "cell_type": "code",
   "execution_count": 14,
   "id": "1c8a86e5-fb7c-4b27-83a5-d3f0151443be",
   "metadata": {},
   "outputs": [
    {
     "name": "stdout",
     "output_type": "stream",
     "text": [
      "             Name                                         LineString  \\\n",
      "0      Colo_Dam_1  LINESTRING (-106.5970268558473 40.896725575497...   \n",
      "1     Colo_Dam_10  LINESTRING (-106.6426122459167 40.905973751082...   \n",
      "2    Colo_Dam_100  LINESTRING (-106.6150550014064 40.974287179221...   \n",
      "3    Colo_Dam_101  LINESTRING (-106.6180693537185 40.970925017027...   \n",
      "4    Colo_Dam_102  LINESTRING (-106.6142924951262 40.966911826079...   \n",
      "..            ...                                                ...   \n",
      "317   Colo_Dam_95  LINESTRING (-106.6161563993666 40.974086519674...   \n",
      "318   Colo_Dam_96  LINESTRING (-106.6157104892612 40.973573723052...   \n",
      "319   Colo_Dam_97  LINESTRING (-106.6160672173455 40.973297258787...   \n",
      "320   Colo_Dam_98  LINESTRING (-106.6163303043076 40.974082060573...   \n",
      "321   Colo_Dam_99  LINESTRING (-106.6153849748843 40.973743168892...   \n",
      "\n",
      "                           Polygon Identifier  OnBoundary  \n",
      "0    LC08_L2SP_035031_20160104_20200907_02_T1       False  \n",
      "1    LC08_L2SP_035031_20160104_20200907_02_T1       False  \n",
      "2    LC08_L2SP_035031_20160104_20200907_02_T1       False  \n",
      "3    LC08_L2SP_035031_20160104_20200907_02_T1       False  \n",
      "4    LC08_L2SP_035031_20160104_20200907_02_T1       False  \n",
      "..                                        ...         ...  \n",
      "317  LC08_L2SP_035031_20160104_20200907_02_T1       False  \n",
      "318  LC08_L2SP_035031_20160104_20200907_02_T1       False  \n",
      "319  LC08_L2SP_035031_20160104_20200907_02_T1       False  \n",
      "320  LC08_L2SP_035031_20160104_20200907_02_T1       False  \n",
      "321  LC08_L2SP_035031_20160104_20200907_02_T1       False  \n",
      "\n",
      "[322 rows x 4 columns]\n"
     ]
    }
   ],
   "source": [
    "import pandas as pd\n",
    "from shapely.geometry import Point, Polygon, LineString\n",
    "\n",
    "polygons = []\n",
    "for index, row in df_polygons.iterrows():\n",
    "    polygon = Polygon([\n",
    "        (row['Corner Upper Left Longitude'], row['Corner Upper Left Latitude']),\n",
    "        (row['Corner Upper Right Longitude'], row['Corner Upper Right Latitude']),\n",
    "        (row['Corner Lower Right Longitude'], row['Corner Lower Right Latitude']),\n",
    "        (row['Corner Lower Left Longitude'], row['Corner Lower Left Latitude']),\n",
    "        (row['Corner Upper Left Longitude'], row['Corner Upper Left Latitude'])\n",
    "    ])\n",
    "    polygons.append((polygon, row['Landsat Product Identifier L2']))\n",
    "\n",
    "linestrings = df_dam.groupby('Name').apply(\n",
    "    lambda group: LineString(zip(group['Longitude'], group['Latitude']))\n",
    ").reset_index()\n",
    "linestrings.columns = ['Name', 'LineString']\n",
    "\n",
    "df_points = df_points.rename(columns={'name': 'Name'})\n",
    "linestrings = linestrings.merge(df_points[['Name', 'Polygon Identifier']], on='Name', how='left')\n",
    "\n",
    "def is_on_boundary(linestring, polygon_identifier):\n",
    "    for polygon, identifier in polygons:\n",
    "        if identifier == polygon_identifier:\n",
    "            return linestring.intersects(polygon.boundary)\n",
    "    return False\n",
    "\n",
    "linestrings['OnBoundary'] = linestrings.apply(\n",
    "    lambda row: is_on_boundary(row['LineString'], row['Polygon Identifier']), axis=1\n",
    ")\n",
    "\n",
    "print(linestrings)"
   ]
  },
  {
   "cell_type": "code",
   "execution_count": 17,
   "id": "faa72383-f48b-4f2d-a191-36b45387380d",
   "metadata": {},
   "outputs": [
    {
     "name": "stdout",
     "output_type": "stream",
     "text": [
      "OnBoundary\n",
      "False    322\n",
      "Name: count, dtype: int64\n"
     ]
    }
   ],
   "source": [
    "boundary_counts = linestrings['OnBoundary'].value_counts()\n",
    "\n",
    "print(boundary_counts)"
   ]
  },
  {
   "cell_type": "code",
   "execution_count": null,
   "id": "a0e19241-cfc2-4d4b-99bb-b7fad277c7f8",
   "metadata": {},
   "outputs": [],
   "source": []
  }
 ],
 "metadata": {
  "kernelspec": {
   "display_name": "Python 3 (ipykernel)",
   "language": "python",
   "name": "python3"
  },
  "language_info": {
   "codemirror_mode": {
    "name": "ipython",
    "version": 3
   },
   "file_extension": ".py",
   "mimetype": "text/x-python",
   "name": "python",
   "nbconvert_exporter": "python",
   "pygments_lexer": "ipython3",
   "version": "3.11.4"
  }
 },
 "nbformat": 4,
 "nbformat_minor": 5
}
